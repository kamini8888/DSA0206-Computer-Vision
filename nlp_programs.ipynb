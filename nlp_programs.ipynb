{
  "nbformat": 4,
  "nbformat_minor": 0,
  "metadata": {
    "colab": {
      "provenance": [],
      "authorship_tag": "ABX9TyNcwWtr1/5qvVPnKWNmWYqh",
      "include_colab_link": true
    },
    "kernelspec": {
      "name": "python3",
      "display_name": "Python 3"
    },
    "language_info": {
      "name": "python"
    },
    "widgets": {
      "application/vnd.jupyter.widget-state+json": {
        "096820b66b864ff294d877e378e2d3ca": {
          "model_module": "@jupyter-widgets/controls",
          "model_name": "HBoxModel",
          "model_module_version": "1.5.0",
          "state": {
            "_dom_classes": [],
            "_model_module": "@jupyter-widgets/controls",
            "_model_module_version": "1.5.0",
            "_model_name": "HBoxModel",
            "_view_count": null,
            "_view_module": "@jupyter-widgets/controls",
            "_view_module_version": "1.5.0",
            "_view_name": "HBoxView",
            "box_style": "",
            "children": [
              "IPY_MODEL_db806899496b416a9dbe53169d35d9a7",
              "IPY_MODEL_6232b2de97b14e6ca35310f43bfd2b04",
              "IPY_MODEL_eda2f6fbb2cd412ca0084656fb8a89e8"
            ],
            "layout": "IPY_MODEL_b7069780860e4f9c940023e5160ad339"
          }
        },
        "db806899496b416a9dbe53169d35d9a7": {
          "model_module": "@jupyter-widgets/controls",
          "model_name": "HTMLModel",
          "model_module_version": "1.5.0",
          "state": {
            "_dom_classes": [],
            "_model_module": "@jupyter-widgets/controls",
            "_model_module_version": "1.5.0",
            "_model_name": "HTMLModel",
            "_view_count": null,
            "_view_module": "@jupyter-widgets/controls",
            "_view_module_version": "1.5.0",
            "_view_name": "HTMLView",
            "description": "",
            "description_tooltip": null,
            "layout": "IPY_MODEL_e26214cb497a4d3181d602441efa8070",
            "placeholder": "​",
            "style": "IPY_MODEL_4ba6bd5e22a64f32a0cd37f6a59dff1a",
            "value": "config.json: 100%"
          }
        },
        "6232b2de97b14e6ca35310f43bfd2b04": {
          "model_module": "@jupyter-widgets/controls",
          "model_name": "FloatProgressModel",
          "model_module_version": "1.5.0",
          "state": {
            "_dom_classes": [],
            "_model_module": "@jupyter-widgets/controls",
            "_model_module_version": "1.5.0",
            "_model_name": "FloatProgressModel",
            "_view_count": null,
            "_view_module": "@jupyter-widgets/controls",
            "_view_module_version": "1.5.0",
            "_view_name": "ProgressView",
            "bar_style": "success",
            "description": "",
            "description_tooltip": null,
            "layout": "IPY_MODEL_f151f119d7f24e03bcc3772e987c0eee",
            "max": 1416,
            "min": 0,
            "orientation": "horizontal",
            "style": "IPY_MODEL_8957581595044619844e7c93b92f13e4",
            "value": 1416
          }
        },
        "eda2f6fbb2cd412ca0084656fb8a89e8": {
          "model_module": "@jupyter-widgets/controls",
          "model_name": "HTMLModel",
          "model_module_version": "1.5.0",
          "state": {
            "_dom_classes": [],
            "_model_module": "@jupyter-widgets/controls",
            "_model_module_version": "1.5.0",
            "_model_name": "HTMLModel",
            "_view_count": null,
            "_view_module": "@jupyter-widgets/controls",
            "_view_module_version": "1.5.0",
            "_view_name": "HTMLView",
            "description": "",
            "description_tooltip": null,
            "layout": "IPY_MODEL_7f73ddff722c4f30b75688211a00bb57",
            "placeholder": "​",
            "style": "IPY_MODEL_577d1eee9deb4244991894e5cc2f54a9",
            "value": " 1.42k/1.42k [00:00&lt;00:00, 29.5kB/s]"
          }
        },
        "b7069780860e4f9c940023e5160ad339": {
          "model_module": "@jupyter-widgets/base",
          "model_name": "LayoutModel",
          "model_module_version": "1.2.0",
          "state": {
            "_model_module": "@jupyter-widgets/base",
            "_model_module_version": "1.2.0",
            "_model_name": "LayoutModel",
            "_view_count": null,
            "_view_module": "@jupyter-widgets/base",
            "_view_module_version": "1.2.0",
            "_view_name": "LayoutView",
            "align_content": null,
            "align_items": null,
            "align_self": null,
            "border": null,
            "bottom": null,
            "display": null,
            "flex": null,
            "flex_flow": null,
            "grid_area": null,
            "grid_auto_columns": null,
            "grid_auto_flow": null,
            "grid_auto_rows": null,
            "grid_column": null,
            "grid_gap": null,
            "grid_row": null,
            "grid_template_areas": null,
            "grid_template_columns": null,
            "grid_template_rows": null,
            "height": null,
            "justify_content": null,
            "justify_items": null,
            "left": null,
            "margin": null,
            "max_height": null,
            "max_width": null,
            "min_height": null,
            "min_width": null,
            "object_fit": null,
            "object_position": null,
            "order": null,
            "overflow": null,
            "overflow_x": null,
            "overflow_y": null,
            "padding": null,
            "right": null,
            "top": null,
            "visibility": null,
            "width": null
          }
        },
        "e26214cb497a4d3181d602441efa8070": {
          "model_module": "@jupyter-widgets/base",
          "model_name": "LayoutModel",
          "model_module_version": "1.2.0",
          "state": {
            "_model_module": "@jupyter-widgets/base",
            "_model_module_version": "1.2.0",
            "_model_name": "LayoutModel",
            "_view_count": null,
            "_view_module": "@jupyter-widgets/base",
            "_view_module_version": "1.2.0",
            "_view_name": "LayoutView",
            "align_content": null,
            "align_items": null,
            "align_self": null,
            "border": null,
            "bottom": null,
            "display": null,
            "flex": null,
            "flex_flow": null,
            "grid_area": null,
            "grid_auto_columns": null,
            "grid_auto_flow": null,
            "grid_auto_rows": null,
            "grid_column": null,
            "grid_gap": null,
            "grid_row": null,
            "grid_template_areas": null,
            "grid_template_columns": null,
            "grid_template_rows": null,
            "height": null,
            "justify_content": null,
            "justify_items": null,
            "left": null,
            "margin": null,
            "max_height": null,
            "max_width": null,
            "min_height": null,
            "min_width": null,
            "object_fit": null,
            "object_position": null,
            "order": null,
            "overflow": null,
            "overflow_x": null,
            "overflow_y": null,
            "padding": null,
            "right": null,
            "top": null,
            "visibility": null,
            "width": null
          }
        },
        "4ba6bd5e22a64f32a0cd37f6a59dff1a": {
          "model_module": "@jupyter-widgets/controls",
          "model_name": "DescriptionStyleModel",
          "model_module_version": "1.5.0",
          "state": {
            "_model_module": "@jupyter-widgets/controls",
            "_model_module_version": "1.5.0",
            "_model_name": "DescriptionStyleModel",
            "_view_count": null,
            "_view_module": "@jupyter-widgets/base",
            "_view_module_version": "1.2.0",
            "_view_name": "StyleView",
            "description_width": ""
          }
        },
        "f151f119d7f24e03bcc3772e987c0eee": {
          "model_module": "@jupyter-widgets/base",
          "model_name": "LayoutModel",
          "model_module_version": "1.2.0",
          "state": {
            "_model_module": "@jupyter-widgets/base",
            "_model_module_version": "1.2.0",
            "_model_name": "LayoutModel",
            "_view_count": null,
            "_view_module": "@jupyter-widgets/base",
            "_view_module_version": "1.2.0",
            "_view_name": "LayoutView",
            "align_content": null,
            "align_items": null,
            "align_self": null,
            "border": null,
            "bottom": null,
            "display": null,
            "flex": null,
            "flex_flow": null,
            "grid_area": null,
            "grid_auto_columns": null,
            "grid_auto_flow": null,
            "grid_auto_rows": null,
            "grid_column": null,
            "grid_gap": null,
            "grid_row": null,
            "grid_template_areas": null,
            "grid_template_columns": null,
            "grid_template_rows": null,
            "height": null,
            "justify_content": null,
            "justify_items": null,
            "left": null,
            "margin": null,
            "max_height": null,
            "max_width": null,
            "min_height": null,
            "min_width": null,
            "object_fit": null,
            "object_position": null,
            "order": null,
            "overflow": null,
            "overflow_x": null,
            "overflow_y": null,
            "padding": null,
            "right": null,
            "top": null,
            "visibility": null,
            "width": null
          }
        },
        "8957581595044619844e7c93b92f13e4": {
          "model_module": "@jupyter-widgets/controls",
          "model_name": "ProgressStyleModel",
          "model_module_version": "1.5.0",
          "state": {
            "_model_module": "@jupyter-widgets/controls",
            "_model_module_version": "1.5.0",
            "_model_name": "ProgressStyleModel",
            "_view_count": null,
            "_view_module": "@jupyter-widgets/base",
            "_view_module_version": "1.2.0",
            "_view_name": "StyleView",
            "bar_color": null,
            "description_width": ""
          }
        },
        "7f73ddff722c4f30b75688211a00bb57": {
          "model_module": "@jupyter-widgets/base",
          "model_name": "LayoutModel",
          "model_module_version": "1.2.0",
          "state": {
            "_model_module": "@jupyter-widgets/base",
            "_model_module_version": "1.2.0",
            "_model_name": "LayoutModel",
            "_view_count": null,
            "_view_module": "@jupyter-widgets/base",
            "_view_module_version": "1.2.0",
            "_view_name": "LayoutView",
            "align_content": null,
            "align_items": null,
            "align_self": null,
            "border": null,
            "bottom": null,
            "display": null,
            "flex": null,
            "flex_flow": null,
            "grid_area": null,
            "grid_auto_columns": null,
            "grid_auto_flow": null,
            "grid_auto_rows": null,
            "grid_column": null,
            "grid_gap": null,
            "grid_row": null,
            "grid_template_areas": null,
            "grid_template_columns": null,
            "grid_template_rows": null,
            "height": null,
            "justify_content": null,
            "justify_items": null,
            "left": null,
            "margin": null,
            "max_height": null,
            "max_width": null,
            "min_height": null,
            "min_width": null,
            "object_fit": null,
            "object_position": null,
            "order": null,
            "overflow": null,
            "overflow_x": null,
            "overflow_y": null,
            "padding": null,
            "right": null,
            "top": null,
            "visibility": null,
            "width": null
          }
        },
        "577d1eee9deb4244991894e5cc2f54a9": {
          "model_module": "@jupyter-widgets/controls",
          "model_name": "DescriptionStyleModel",
          "model_module_version": "1.5.0",
          "state": {
            "_model_module": "@jupyter-widgets/controls",
            "_model_module_version": "1.5.0",
            "_model_name": "DescriptionStyleModel",
            "_view_count": null,
            "_view_module": "@jupyter-widgets/base",
            "_view_module_version": "1.2.0",
            "_view_name": "StyleView",
            "description_width": ""
          }
        },
        "c746b66cab3f41eabdb9da49aab2c34a": {
          "model_module": "@jupyter-widgets/controls",
          "model_name": "HBoxModel",
          "model_module_version": "1.5.0",
          "state": {
            "_dom_classes": [],
            "_model_module": "@jupyter-widgets/controls",
            "_model_module_version": "1.5.0",
            "_model_name": "HBoxModel",
            "_view_count": null,
            "_view_module": "@jupyter-widgets/controls",
            "_view_module_version": "1.5.0",
            "_view_name": "HBoxView",
            "box_style": "",
            "children": [
              "IPY_MODEL_5643f0896ec4417eba2db0bbb2645436",
              "IPY_MODEL_b6f25bb8b3c944d1aa7540abb1525902",
              "IPY_MODEL_1d22ae4ad7d7486f969bbf384949bc3c"
            ],
            "layout": "IPY_MODEL_24f3cc14a3964cc68c4b989f8f81ff67"
          }
        },
        "5643f0896ec4417eba2db0bbb2645436": {
          "model_module": "@jupyter-widgets/controls",
          "model_name": "HTMLModel",
          "model_module_version": "1.5.0",
          "state": {
            "_dom_classes": [],
            "_model_module": "@jupyter-widgets/controls",
            "_model_module_version": "1.5.0",
            "_model_name": "HTMLModel",
            "_view_count": null,
            "_view_module": "@jupyter-widgets/controls",
            "_view_module_version": "1.5.0",
            "_view_name": "HTMLView",
            "description": "",
            "description_tooltip": null,
            "layout": "IPY_MODEL_d807b9adceec424482c53c0d136b4480",
            "placeholder": "​",
            "style": "IPY_MODEL_c7dbf02923c34ce6a280fddcff43143a",
            "value": "pytorch_model.bin: 100%"
          }
        },
        "b6f25bb8b3c944d1aa7540abb1525902": {
          "model_module": "@jupyter-widgets/controls",
          "model_name": "FloatProgressModel",
          "model_module_version": "1.5.0",
          "state": {
            "_dom_classes": [],
            "_model_module": "@jupyter-widgets/controls",
            "_model_module_version": "1.5.0",
            "_model_name": "FloatProgressModel",
            "_view_count": null,
            "_view_module": "@jupyter-widgets/controls",
            "_view_module_version": "1.5.0",
            "_view_name": "ProgressView",
            "bar_style": "success",
            "description": "",
            "description_tooltip": null,
            "layout": "IPY_MODEL_91ade3387a8f4de69461461c19913e39",
            "max": 300827685,
            "min": 0,
            "orientation": "horizontal",
            "style": "IPY_MODEL_d8ba4c1a4fde4f7e9401a7952623e5c5",
            "value": 300827685
          }
        },
        "1d22ae4ad7d7486f969bbf384949bc3c": {
          "model_module": "@jupyter-widgets/controls",
          "model_name": "HTMLModel",
          "model_module_version": "1.5.0",
          "state": {
            "_dom_classes": [],
            "_model_module": "@jupyter-widgets/controls",
            "_model_module_version": "1.5.0",
            "_model_name": "HTMLModel",
            "_view_count": null,
            "_view_module": "@jupyter-widgets/controls",
            "_view_module_version": "1.5.0",
            "_view_name": "HTMLView",
            "description": "",
            "description_tooltip": null,
            "layout": "IPY_MODEL_ab8028b3a2b14d82bb859c6538a78541",
            "placeholder": "​",
            "style": "IPY_MODEL_5890a0e4f7a04654a0014987ce61053f",
            "value": " 301M/301M [00:04&lt;00:00, 46.5MB/s]"
          }
        },
        "24f3cc14a3964cc68c4b989f8f81ff67": {
          "model_module": "@jupyter-widgets/base",
          "model_name": "LayoutModel",
          "model_module_version": "1.2.0",
          "state": {
            "_model_module": "@jupyter-widgets/base",
            "_model_module_version": "1.2.0",
            "_model_name": "LayoutModel",
            "_view_count": null,
            "_view_module": "@jupyter-widgets/base",
            "_view_module_version": "1.2.0",
            "_view_name": "LayoutView",
            "align_content": null,
            "align_items": null,
            "align_self": null,
            "border": null,
            "bottom": null,
            "display": null,
            "flex": null,
            "flex_flow": null,
            "grid_area": null,
            "grid_auto_columns": null,
            "grid_auto_flow": null,
            "grid_auto_rows": null,
            "grid_column": null,
            "grid_gap": null,
            "grid_row": null,
            "grid_template_areas": null,
            "grid_template_columns": null,
            "grid_template_rows": null,
            "height": null,
            "justify_content": null,
            "justify_items": null,
            "left": null,
            "margin": null,
            "max_height": null,
            "max_width": null,
            "min_height": null,
            "min_width": null,
            "object_fit": null,
            "object_position": null,
            "order": null,
            "overflow": null,
            "overflow_x": null,
            "overflow_y": null,
            "padding": null,
            "right": null,
            "top": null,
            "visibility": null,
            "width": null
          }
        },
        "d807b9adceec424482c53c0d136b4480": {
          "model_module": "@jupyter-widgets/base",
          "model_name": "LayoutModel",
          "model_module_version": "1.2.0",
          "state": {
            "_model_module": "@jupyter-widgets/base",
            "_model_module_version": "1.2.0",
            "_model_name": "LayoutModel",
            "_view_count": null,
            "_view_module": "@jupyter-widgets/base",
            "_view_module_version": "1.2.0",
            "_view_name": "LayoutView",
            "align_content": null,
            "align_items": null,
            "align_self": null,
            "border": null,
            "bottom": null,
            "display": null,
            "flex": null,
            "flex_flow": null,
            "grid_area": null,
            "grid_auto_columns": null,
            "grid_auto_flow": null,
            "grid_auto_rows": null,
            "grid_column": null,
            "grid_gap": null,
            "grid_row": null,
            "grid_template_areas": null,
            "grid_template_columns": null,
            "grid_template_rows": null,
            "height": null,
            "justify_content": null,
            "justify_items": null,
            "left": null,
            "margin": null,
            "max_height": null,
            "max_width": null,
            "min_height": null,
            "min_width": null,
            "object_fit": null,
            "object_position": null,
            "order": null,
            "overflow": null,
            "overflow_x": null,
            "overflow_y": null,
            "padding": null,
            "right": null,
            "top": null,
            "visibility": null,
            "width": null
          }
        },
        "c7dbf02923c34ce6a280fddcff43143a": {
          "model_module": "@jupyter-widgets/controls",
          "model_name": "DescriptionStyleModel",
          "model_module_version": "1.5.0",
          "state": {
            "_model_module": "@jupyter-widgets/controls",
            "_model_module_version": "1.5.0",
            "_model_name": "DescriptionStyleModel",
            "_view_count": null,
            "_view_module": "@jupyter-widgets/base",
            "_view_module_version": "1.2.0",
            "_view_name": "StyleView",
            "description_width": ""
          }
        },
        "91ade3387a8f4de69461461c19913e39": {
          "model_module": "@jupyter-widgets/base",
          "model_name": "LayoutModel",
          "model_module_version": "1.2.0",
          "state": {
            "_model_module": "@jupyter-widgets/base",
            "_model_module_version": "1.2.0",
            "_model_name": "LayoutModel",
            "_view_count": null,
            "_view_module": "@jupyter-widgets/base",
            "_view_module_version": "1.2.0",
            "_view_name": "LayoutView",
            "align_content": null,
            "align_items": null,
            "align_self": null,
            "border": null,
            "bottom": null,
            "display": null,
            "flex": null,
            "flex_flow": null,
            "grid_area": null,
            "grid_auto_columns": null,
            "grid_auto_flow": null,
            "grid_auto_rows": null,
            "grid_column": null,
            "grid_gap": null,
            "grid_row": null,
            "grid_template_areas": null,
            "grid_template_columns": null,
            "grid_template_rows": null,
            "height": null,
            "justify_content": null,
            "justify_items": null,
            "left": null,
            "margin": null,
            "max_height": null,
            "max_width": null,
            "min_height": null,
            "min_width": null,
            "object_fit": null,
            "object_position": null,
            "order": null,
            "overflow": null,
            "overflow_x": null,
            "overflow_y": null,
            "padding": null,
            "right": null,
            "top": null,
            "visibility": null,
            "width": null
          }
        },
        "d8ba4c1a4fde4f7e9401a7952623e5c5": {
          "model_module": "@jupyter-widgets/controls",
          "model_name": "ProgressStyleModel",
          "model_module_version": "1.5.0",
          "state": {
            "_model_module": "@jupyter-widgets/controls",
            "_model_module_version": "1.5.0",
            "_model_name": "ProgressStyleModel",
            "_view_count": null,
            "_view_module": "@jupyter-widgets/base",
            "_view_module_version": "1.2.0",
            "_view_name": "StyleView",
            "bar_color": null,
            "description_width": ""
          }
        },
        "ab8028b3a2b14d82bb859c6538a78541": {
          "model_module": "@jupyter-widgets/base",
          "model_name": "LayoutModel",
          "model_module_version": "1.2.0",
          "state": {
            "_model_module": "@jupyter-widgets/base",
            "_model_module_version": "1.2.0",
            "_model_name": "LayoutModel",
            "_view_count": null,
            "_view_module": "@jupyter-widgets/base",
            "_view_module_version": "1.2.0",
            "_view_name": "LayoutView",
            "align_content": null,
            "align_items": null,
            "align_self": null,
            "border": null,
            "bottom": null,
            "display": null,
            "flex": null,
            "flex_flow": null,
            "grid_area": null,
            "grid_auto_columns": null,
            "grid_auto_flow": null,
            "grid_auto_rows": null,
            "grid_column": null,
            "grid_gap": null,
            "grid_row": null,
            "grid_template_areas": null,
            "grid_template_columns": null,
            "grid_template_rows": null,
            "height": null,
            "justify_content": null,
            "justify_items": null,
            "left": null,
            "margin": null,
            "max_height": null,
            "max_width": null,
            "min_height": null,
            "min_width": null,
            "object_fit": null,
            "object_position": null,
            "order": null,
            "overflow": null,
            "overflow_x": null,
            "overflow_y": null,
            "padding": null,
            "right": null,
            "top": null,
            "visibility": null,
            "width": null
          }
        },
        "5890a0e4f7a04654a0014987ce61053f": {
          "model_module": "@jupyter-widgets/controls",
          "model_name": "DescriptionStyleModel",
          "model_module_version": "1.5.0",
          "state": {
            "_model_module": "@jupyter-widgets/controls",
            "_model_module_version": "1.5.0",
            "_model_name": "DescriptionStyleModel",
            "_view_count": null,
            "_view_module": "@jupyter-widgets/base",
            "_view_module_version": "1.2.0",
            "_view_name": "StyleView",
            "description_width": ""
          }
        },
        "fcd7682b0d0041beb6b90af2639f7547": {
          "model_module": "@jupyter-widgets/controls",
          "model_name": "HBoxModel",
          "model_module_version": "1.5.0",
          "state": {
            "_dom_classes": [],
            "_model_module": "@jupyter-widgets/controls",
            "_model_module_version": "1.5.0",
            "_model_name": "HBoxModel",
            "_view_count": null,
            "_view_module": "@jupyter-widgets/controls",
            "_view_module_version": "1.5.0",
            "_view_name": "HBoxView",
            "box_style": "",
            "children": [
              "IPY_MODEL_a48902ebff13432d835b496690bfa667",
              "IPY_MODEL_180224596e5f48558f58dca64d10c0ba",
              "IPY_MODEL_a08d6650fb374a4482f941ab18e62114"
            ],
            "layout": "IPY_MODEL_68e7ee3f1c9a4d91a63ed87d07df4cf8"
          }
        },
        "a48902ebff13432d835b496690bfa667": {
          "model_module": "@jupyter-widgets/controls",
          "model_name": "HTMLModel",
          "model_module_version": "1.5.0",
          "state": {
            "_dom_classes": [],
            "_model_module": "@jupyter-widgets/controls",
            "_model_module_version": "1.5.0",
            "_model_name": "HTMLModel",
            "_view_count": null,
            "_view_module": "@jupyter-widgets/controls",
            "_view_module_version": "1.5.0",
            "_view_name": "HTMLView",
            "description": "",
            "description_tooltip": null,
            "layout": "IPY_MODEL_cc6588ad966343ae8093b8407d2563b0",
            "placeholder": "​",
            "style": "IPY_MODEL_79433b4029014945b0e28a8f515b3028",
            "value": "generation_config.json: 100%"
          }
        },
        "180224596e5f48558f58dca64d10c0ba": {
          "model_module": "@jupyter-widgets/controls",
          "model_name": "FloatProgressModel",
          "model_module_version": "1.5.0",
          "state": {
            "_dom_classes": [],
            "_model_module": "@jupyter-widgets/controls",
            "_model_module_version": "1.5.0",
            "_model_name": "FloatProgressModel",
            "_view_count": null,
            "_view_module": "@jupyter-widgets/controls",
            "_view_module_version": "1.5.0",
            "_view_name": "ProgressView",
            "bar_style": "success",
            "description": "",
            "description_tooltip": null,
            "layout": "IPY_MODEL_8e184f53b69d49bc9b82d1a04dfc4e8f",
            "max": 293,
            "min": 0,
            "orientation": "horizontal",
            "style": "IPY_MODEL_daa36f341e0741568b3efd0d32b0f227",
            "value": 293
          }
        },
        "a08d6650fb374a4482f941ab18e62114": {
          "model_module": "@jupyter-widgets/controls",
          "model_name": "HTMLModel",
          "model_module_version": "1.5.0",
          "state": {
            "_dom_classes": [],
            "_model_module": "@jupyter-widgets/controls",
            "_model_module_version": "1.5.0",
            "_model_name": "HTMLModel",
            "_view_count": null,
            "_view_module": "@jupyter-widgets/controls",
            "_view_module_version": "1.5.0",
            "_view_name": "HTMLView",
            "description": "",
            "description_tooltip": null,
            "layout": "IPY_MODEL_cd9a5a6f80784e88bcfdcb98f8a9ed6a",
            "placeholder": "​",
            "style": "IPY_MODEL_65fb8e7d7ff74ca9b684c86b4cc3ea04",
            "value": " 293/293 [00:00&lt;00:00, 4.91kB/s]"
          }
        },
        "68e7ee3f1c9a4d91a63ed87d07df4cf8": {
          "model_module": "@jupyter-widgets/base",
          "model_name": "LayoutModel",
          "model_module_version": "1.2.0",
          "state": {
            "_model_module": "@jupyter-widgets/base",
            "_model_module_version": "1.2.0",
            "_model_name": "LayoutModel",
            "_view_count": null,
            "_view_module": "@jupyter-widgets/base",
            "_view_module_version": "1.2.0",
            "_view_name": "LayoutView",
            "align_content": null,
            "align_items": null,
            "align_self": null,
            "border": null,
            "bottom": null,
            "display": null,
            "flex": null,
            "flex_flow": null,
            "grid_area": null,
            "grid_auto_columns": null,
            "grid_auto_flow": null,
            "grid_auto_rows": null,
            "grid_column": null,
            "grid_gap": null,
            "grid_row": null,
            "grid_template_areas": null,
            "grid_template_columns": null,
            "grid_template_rows": null,
            "height": null,
            "justify_content": null,
            "justify_items": null,
            "left": null,
            "margin": null,
            "max_height": null,
            "max_width": null,
            "min_height": null,
            "min_width": null,
            "object_fit": null,
            "object_position": null,
            "order": null,
            "overflow": null,
            "overflow_x": null,
            "overflow_y": null,
            "padding": null,
            "right": null,
            "top": null,
            "visibility": null,
            "width": null
          }
        },
        "cc6588ad966343ae8093b8407d2563b0": {
          "model_module": "@jupyter-widgets/base",
          "model_name": "LayoutModel",
          "model_module_version": "1.2.0",
          "state": {
            "_model_module": "@jupyter-widgets/base",
            "_model_module_version": "1.2.0",
            "_model_name": "LayoutModel",
            "_view_count": null,
            "_view_module": "@jupyter-widgets/base",
            "_view_module_version": "1.2.0",
            "_view_name": "LayoutView",
            "align_content": null,
            "align_items": null,
            "align_self": null,
            "border": null,
            "bottom": null,
            "display": null,
            "flex": null,
            "flex_flow": null,
            "grid_area": null,
            "grid_auto_columns": null,
            "grid_auto_flow": null,
            "grid_auto_rows": null,
            "grid_column": null,
            "grid_gap": null,
            "grid_row": null,
            "grid_template_areas": null,
            "grid_template_columns": null,
            "grid_template_rows": null,
            "height": null,
            "justify_content": null,
            "justify_items": null,
            "left": null,
            "margin": null,
            "max_height": null,
            "max_width": null,
            "min_height": null,
            "min_width": null,
            "object_fit": null,
            "object_position": null,
            "order": null,
            "overflow": null,
            "overflow_x": null,
            "overflow_y": null,
            "padding": null,
            "right": null,
            "top": null,
            "visibility": null,
            "width": null
          }
        },
        "79433b4029014945b0e28a8f515b3028": {
          "model_module": "@jupyter-widgets/controls",
          "model_name": "DescriptionStyleModel",
          "model_module_version": "1.5.0",
          "state": {
            "_model_module": "@jupyter-widgets/controls",
            "_model_module_version": "1.5.0",
            "_model_name": "DescriptionStyleModel",
            "_view_count": null,
            "_view_module": "@jupyter-widgets/base",
            "_view_module_version": "1.2.0",
            "_view_name": "StyleView",
            "description_width": ""
          }
        },
        "8e184f53b69d49bc9b82d1a04dfc4e8f": {
          "model_module": "@jupyter-widgets/base",
          "model_name": "LayoutModel",
          "model_module_version": "1.2.0",
          "state": {
            "_model_module": "@jupyter-widgets/base",
            "_model_module_version": "1.2.0",
            "_model_name": "LayoutModel",
            "_view_count": null,
            "_view_module": "@jupyter-widgets/base",
            "_view_module_version": "1.2.0",
            "_view_name": "LayoutView",
            "align_content": null,
            "align_items": null,
            "align_self": null,
            "border": null,
            "bottom": null,
            "display": null,
            "flex": null,
            "flex_flow": null,
            "grid_area": null,
            "grid_auto_columns": null,
            "grid_auto_flow": null,
            "grid_auto_rows": null,
            "grid_column": null,
            "grid_gap": null,
            "grid_row": null,
            "grid_template_areas": null,
            "grid_template_columns": null,
            "grid_template_rows": null,
            "height": null,
            "justify_content": null,
            "justify_items": null,
            "left": null,
            "margin": null,
            "max_height": null,
            "max_width": null,
            "min_height": null,
            "min_width": null,
            "object_fit": null,
            "object_position": null,
            "order": null,
            "overflow": null,
            "overflow_x": null,
            "overflow_y": null,
            "padding": null,
            "right": null,
            "top": null,
            "visibility": null,
            "width": null
          }
        },
        "daa36f341e0741568b3efd0d32b0f227": {
          "model_module": "@jupyter-widgets/controls",
          "model_name": "ProgressStyleModel",
          "model_module_version": "1.5.0",
          "state": {
            "_model_module": "@jupyter-widgets/controls",
            "_model_module_version": "1.5.0",
            "_model_name": "ProgressStyleModel",
            "_view_count": null,
            "_view_module": "@jupyter-widgets/base",
            "_view_module_version": "1.2.0",
            "_view_name": "StyleView",
            "bar_color": null,
            "description_width": ""
          }
        },
        "cd9a5a6f80784e88bcfdcb98f8a9ed6a": {
          "model_module": "@jupyter-widgets/base",
          "model_name": "LayoutModel",
          "model_module_version": "1.2.0",
          "state": {
            "_model_module": "@jupyter-widgets/base",
            "_model_module_version": "1.2.0",
            "_model_name": "LayoutModel",
            "_view_count": null,
            "_view_module": "@jupyter-widgets/base",
            "_view_module_version": "1.2.0",
            "_view_name": "LayoutView",
            "align_content": null,
            "align_items": null,
            "align_self": null,
            "border": null,
            "bottom": null,
            "display": null,
            "flex": null,
            "flex_flow": null,
            "grid_area": null,
            "grid_auto_columns": null,
            "grid_auto_flow": null,
            "grid_auto_rows": null,
            "grid_column": null,
            "grid_gap": null,
            "grid_row": null,
            "grid_template_areas": null,
            "grid_template_columns": null,
            "grid_template_rows": null,
            "height": null,
            "justify_content": null,
            "justify_items": null,
            "left": null,
            "margin": null,
            "max_height": null,
            "max_width": null,
            "min_height": null,
            "min_width": null,
            "object_fit": null,
            "object_position": null,
            "order": null,
            "overflow": null,
            "overflow_x": null,
            "overflow_y": null,
            "padding": null,
            "right": null,
            "top": null,
            "visibility": null,
            "width": null
          }
        },
        "65fb8e7d7ff74ca9b684c86b4cc3ea04": {
          "model_module": "@jupyter-widgets/controls",
          "model_name": "DescriptionStyleModel",
          "model_module_version": "1.5.0",
          "state": {
            "_model_module": "@jupyter-widgets/controls",
            "_model_module_version": "1.5.0",
            "_model_name": "DescriptionStyleModel",
            "_view_count": null,
            "_view_module": "@jupyter-widgets/base",
            "_view_module_version": "1.2.0",
            "_view_name": "StyleView",
            "description_width": ""
          }
        },
        "15bfa94f325f40f4a0bfb0907fe09999": {
          "model_module": "@jupyter-widgets/controls",
          "model_name": "HBoxModel",
          "model_module_version": "1.5.0",
          "state": {
            "_dom_classes": [],
            "_model_module": "@jupyter-widgets/controls",
            "_model_module_version": "1.5.0",
            "_model_name": "HBoxModel",
            "_view_count": null,
            "_view_module": "@jupyter-widgets/controls",
            "_view_module_version": "1.5.0",
            "_view_name": "HBoxView",
            "box_style": "",
            "children": [
              "IPY_MODEL_203eb3dabcec4511b3a9ff32f01f7f0f",
              "IPY_MODEL_6cdc582f91784498b260c694a96890c9",
              "IPY_MODEL_1b8dcc93bf80408a850eb335b4814c00"
            ],
            "layout": "IPY_MODEL_3080e32d811b4978a93ec9f2be304d86"
          }
        },
        "203eb3dabcec4511b3a9ff32f01f7f0f": {
          "model_module": "@jupyter-widgets/controls",
          "model_name": "HTMLModel",
          "model_module_version": "1.5.0",
          "state": {
            "_dom_classes": [],
            "_model_module": "@jupyter-widgets/controls",
            "_model_module_version": "1.5.0",
            "_model_name": "HTMLModel",
            "_view_count": null,
            "_view_module": "@jupyter-widgets/controls",
            "_view_module_version": "1.5.0",
            "_view_name": "HTMLView",
            "description": "",
            "description_tooltip": null,
            "layout": "IPY_MODEL_25b60c02471943698c9dcb5b620003d8",
            "placeholder": "​",
            "style": "IPY_MODEL_a9baab2fb37144939ca1969274ee7db2",
            "value": "tokenizer_config.json: 100%"
          }
        },
        "6cdc582f91784498b260c694a96890c9": {
          "model_module": "@jupyter-widgets/controls",
          "model_name": "FloatProgressModel",
          "model_module_version": "1.5.0",
          "state": {
            "_dom_classes": [],
            "_model_module": "@jupyter-widgets/controls",
            "_model_module_version": "1.5.0",
            "_model_name": "FloatProgressModel",
            "_view_count": null,
            "_view_module": "@jupyter-widgets/controls",
            "_view_module_version": "1.5.0",
            "_view_name": "ProgressView",
            "bar_style": "success",
            "description": "",
            "description_tooltip": null,
            "layout": "IPY_MODEL_6677df416491418aafff55572a465386",
            "max": 42,
            "min": 0,
            "orientation": "horizontal",
            "style": "IPY_MODEL_5312b956b9154026890e3471370c7278",
            "value": 42
          }
        },
        "1b8dcc93bf80408a850eb335b4814c00": {
          "model_module": "@jupyter-widgets/controls",
          "model_name": "HTMLModel",
          "model_module_version": "1.5.0",
          "state": {
            "_dom_classes": [],
            "_model_module": "@jupyter-widgets/controls",
            "_model_module_version": "1.5.0",
            "_model_name": "HTMLModel",
            "_view_count": null,
            "_view_module": "@jupyter-widgets/controls",
            "_view_module_version": "1.5.0",
            "_view_name": "HTMLView",
            "description": "",
            "description_tooltip": null,
            "layout": "IPY_MODEL_588385c772b04eafa5deaa6bfec9cdff",
            "placeholder": "​",
            "style": "IPY_MODEL_989970781a1c4c36b345cb4e2c3a1732",
            "value": " 42.0/42.0 [00:00&lt;00:00, 425B/s]"
          }
        },
        "3080e32d811b4978a93ec9f2be304d86": {
          "model_module": "@jupyter-widgets/base",
          "model_name": "LayoutModel",
          "model_module_version": "1.2.0",
          "state": {
            "_model_module": "@jupyter-widgets/base",
            "_model_module_version": "1.2.0",
            "_model_name": "LayoutModel",
            "_view_count": null,
            "_view_module": "@jupyter-widgets/base",
            "_view_module_version": "1.2.0",
            "_view_name": "LayoutView",
            "align_content": null,
            "align_items": null,
            "align_self": null,
            "border": null,
            "bottom": null,
            "display": null,
            "flex": null,
            "flex_flow": null,
            "grid_area": null,
            "grid_auto_columns": null,
            "grid_auto_flow": null,
            "grid_auto_rows": null,
            "grid_column": null,
            "grid_gap": null,
            "grid_row": null,
            "grid_template_areas": null,
            "grid_template_columns": null,
            "grid_template_rows": null,
            "height": null,
            "justify_content": null,
            "justify_items": null,
            "left": null,
            "margin": null,
            "max_height": null,
            "max_width": null,
            "min_height": null,
            "min_width": null,
            "object_fit": null,
            "object_position": null,
            "order": null,
            "overflow": null,
            "overflow_x": null,
            "overflow_y": null,
            "padding": null,
            "right": null,
            "top": null,
            "visibility": null,
            "width": null
          }
        },
        "25b60c02471943698c9dcb5b620003d8": {
          "model_module": "@jupyter-widgets/base",
          "model_name": "LayoutModel",
          "model_module_version": "1.2.0",
          "state": {
            "_model_module": "@jupyter-widgets/base",
            "_model_module_version": "1.2.0",
            "_model_name": "LayoutModel",
            "_view_count": null,
            "_view_module": "@jupyter-widgets/base",
            "_view_module_version": "1.2.0",
            "_view_name": "LayoutView",
            "align_content": null,
            "align_items": null,
            "align_self": null,
            "border": null,
            "bottom": null,
            "display": null,
            "flex": null,
            "flex_flow": null,
            "grid_area": null,
            "grid_auto_columns": null,
            "grid_auto_flow": null,
            "grid_auto_rows": null,
            "grid_column": null,
            "grid_gap": null,
            "grid_row": null,
            "grid_template_areas": null,
            "grid_template_columns": null,
            "grid_template_rows": null,
            "height": null,
            "justify_content": null,
            "justify_items": null,
            "left": null,
            "margin": null,
            "max_height": null,
            "max_width": null,
            "min_height": null,
            "min_width": null,
            "object_fit": null,
            "object_position": null,
            "order": null,
            "overflow": null,
            "overflow_x": null,
            "overflow_y": null,
            "padding": null,
            "right": null,
            "top": null,
            "visibility": null,
            "width": null
          }
        },
        "a9baab2fb37144939ca1969274ee7db2": {
          "model_module": "@jupyter-widgets/controls",
          "model_name": "DescriptionStyleModel",
          "model_module_version": "1.5.0",
          "state": {
            "_model_module": "@jupyter-widgets/controls",
            "_model_module_version": "1.5.0",
            "_model_name": "DescriptionStyleModel",
            "_view_count": null,
            "_view_module": "@jupyter-widgets/base",
            "_view_module_version": "1.2.0",
            "_view_name": "StyleView",
            "description_width": ""
          }
        },
        "6677df416491418aafff55572a465386": {
          "model_module": "@jupyter-widgets/base",
          "model_name": "LayoutModel",
          "model_module_version": "1.2.0",
          "state": {
            "_model_module": "@jupyter-widgets/base",
            "_model_module_version": "1.2.0",
            "_model_name": "LayoutModel",
            "_view_count": null,
            "_view_module": "@jupyter-widgets/base",
            "_view_module_version": "1.2.0",
            "_view_name": "LayoutView",
            "align_content": null,
            "align_items": null,
            "align_self": null,
            "border": null,
            "bottom": null,
            "display": null,
            "flex": null,
            "flex_flow": null,
            "grid_area": null,
            "grid_auto_columns": null,
            "grid_auto_flow": null,
            "grid_auto_rows": null,
            "grid_column": null,
            "grid_gap": null,
            "grid_row": null,
            "grid_template_areas": null,
            "grid_template_columns": null,
            "grid_template_rows": null,
            "height": null,
            "justify_content": null,
            "justify_items": null,
            "left": null,
            "margin": null,
            "max_height": null,
            "max_width": null,
            "min_height": null,
            "min_width": null,
            "object_fit": null,
            "object_position": null,
            "order": null,
            "overflow": null,
            "overflow_x": null,
            "overflow_y": null,
            "padding": null,
            "right": null,
            "top": null,
            "visibility": null,
            "width": null
          }
        },
        "5312b956b9154026890e3471370c7278": {
          "model_module": "@jupyter-widgets/controls",
          "model_name": "ProgressStyleModel",
          "model_module_version": "1.5.0",
          "state": {
            "_model_module": "@jupyter-widgets/controls",
            "_model_module_version": "1.5.0",
            "_model_name": "ProgressStyleModel",
            "_view_count": null,
            "_view_module": "@jupyter-widgets/base",
            "_view_module_version": "1.2.0",
            "_view_name": "StyleView",
            "bar_color": null,
            "description_width": ""
          }
        },
        "588385c772b04eafa5deaa6bfec9cdff": {
          "model_module": "@jupyter-widgets/base",
          "model_name": "LayoutModel",
          "model_module_version": "1.2.0",
          "state": {
            "_model_module": "@jupyter-widgets/base",
            "_model_module_version": "1.2.0",
            "_model_name": "LayoutModel",
            "_view_count": null,
            "_view_module": "@jupyter-widgets/base",
            "_view_module_version": "1.2.0",
            "_view_name": "LayoutView",
            "align_content": null,
            "align_items": null,
            "align_self": null,
            "border": null,
            "bottom": null,
            "display": null,
            "flex": null,
            "flex_flow": null,
            "grid_area": null,
            "grid_auto_columns": null,
            "grid_auto_flow": null,
            "grid_auto_rows": null,
            "grid_column": null,
            "grid_gap": null,
            "grid_row": null,
            "grid_template_areas": null,
            "grid_template_columns": null,
            "grid_template_rows": null,
            "height": null,
            "justify_content": null,
            "justify_items": null,
            "left": null,
            "margin": null,
            "max_height": null,
            "max_width": null,
            "min_height": null,
            "min_width": null,
            "object_fit": null,
            "object_position": null,
            "order": null,
            "overflow": null,
            "overflow_x": null,
            "overflow_y": null,
            "padding": null,
            "right": null,
            "top": null,
            "visibility": null,
            "width": null
          }
        },
        "989970781a1c4c36b345cb4e2c3a1732": {
          "model_module": "@jupyter-widgets/controls",
          "model_name": "DescriptionStyleModel",
          "model_module_version": "1.5.0",
          "state": {
            "_model_module": "@jupyter-widgets/controls",
            "_model_module_version": "1.5.0",
            "_model_name": "DescriptionStyleModel",
            "_view_count": null,
            "_view_module": "@jupyter-widgets/base",
            "_view_module_version": "1.2.0",
            "_view_name": "StyleView",
            "description_width": ""
          }
        },
        "d38556b5e8bf431baba5ee644123f38e": {
          "model_module": "@jupyter-widgets/controls",
          "model_name": "HBoxModel",
          "model_module_version": "1.5.0",
          "state": {
            "_dom_classes": [],
            "_model_module": "@jupyter-widgets/controls",
            "_model_module_version": "1.5.0",
            "_model_name": "HBoxModel",
            "_view_count": null,
            "_view_module": "@jupyter-widgets/controls",
            "_view_module_version": "1.5.0",
            "_view_name": "HBoxView",
            "box_style": "",
            "children": [
              "IPY_MODEL_b856a10495f64e35a76ca1ba88568f70",
              "IPY_MODEL_f32add5cbd9c4bb0bbb081aac4f8c71b",
              "IPY_MODEL_b8b78e69477a4955b7c3f99ab069cdb2"
            ],
            "layout": "IPY_MODEL_078e1b66d0b840ee93ccb885f60d8cbf"
          }
        },
        "b856a10495f64e35a76ca1ba88568f70": {
          "model_module": "@jupyter-widgets/controls",
          "model_name": "HTMLModel",
          "model_module_version": "1.5.0",
          "state": {
            "_dom_classes": [],
            "_model_module": "@jupyter-widgets/controls",
            "_model_module_version": "1.5.0",
            "_model_name": "HTMLModel",
            "_view_count": null,
            "_view_module": "@jupyter-widgets/controls",
            "_view_module_version": "1.5.0",
            "_view_name": "HTMLView",
            "description": "",
            "description_tooltip": null,
            "layout": "IPY_MODEL_391feaf1dc5248d882cdc470d77f6bce",
            "placeholder": "​",
            "style": "IPY_MODEL_63dca23820ab4138ada9d8b22a32b59d",
            "value": "source.spm: 100%"
          }
        },
        "f32add5cbd9c4bb0bbb081aac4f8c71b": {
          "model_module": "@jupyter-widgets/controls",
          "model_name": "FloatProgressModel",
          "model_module_version": "1.5.0",
          "state": {
            "_dom_classes": [],
            "_model_module": "@jupyter-widgets/controls",
            "_model_module_version": "1.5.0",
            "_model_name": "FloatProgressModel",
            "_view_count": null,
            "_view_module": "@jupyter-widgets/controls",
            "_view_module_version": "1.5.0",
            "_view_name": "ProgressView",
            "bar_style": "success",
            "description": "",
            "description_tooltip": null,
            "layout": "IPY_MODEL_6f2bc930283848c2b2f1f6955c61e669",
            "max": 778395,
            "min": 0,
            "orientation": "horizontal",
            "style": "IPY_MODEL_e6e586e4392d44e4ad6b23fb149b3e43",
            "value": 778395
          }
        },
        "b8b78e69477a4955b7c3f99ab069cdb2": {
          "model_module": "@jupyter-widgets/controls",
          "model_name": "HTMLModel",
          "model_module_version": "1.5.0",
          "state": {
            "_dom_classes": [],
            "_model_module": "@jupyter-widgets/controls",
            "_model_module_version": "1.5.0",
            "_model_name": "HTMLModel",
            "_view_count": null,
            "_view_module": "@jupyter-widgets/controls",
            "_view_module_version": "1.5.0",
            "_view_name": "HTMLView",
            "description": "",
            "description_tooltip": null,
            "layout": "IPY_MODEL_1375420bb4754625a15da03ae376bf94",
            "placeholder": "​",
            "style": "IPY_MODEL_04d5ebe37d4445efac93541b2794d926",
            "value": " 778k/778k [00:00&lt;00:00, 4.20MB/s]"
          }
        },
        "078e1b66d0b840ee93ccb885f60d8cbf": {
          "model_module": "@jupyter-widgets/base",
          "model_name": "LayoutModel",
          "model_module_version": "1.2.0",
          "state": {
            "_model_module": "@jupyter-widgets/base",
            "_model_module_version": "1.2.0",
            "_model_name": "LayoutModel",
            "_view_count": null,
            "_view_module": "@jupyter-widgets/base",
            "_view_module_version": "1.2.0",
            "_view_name": "LayoutView",
            "align_content": null,
            "align_items": null,
            "align_self": null,
            "border": null,
            "bottom": null,
            "display": null,
            "flex": null,
            "flex_flow": null,
            "grid_area": null,
            "grid_auto_columns": null,
            "grid_auto_flow": null,
            "grid_auto_rows": null,
            "grid_column": null,
            "grid_gap": null,
            "grid_row": null,
            "grid_template_areas": null,
            "grid_template_columns": null,
            "grid_template_rows": null,
            "height": null,
            "justify_content": null,
            "justify_items": null,
            "left": null,
            "margin": null,
            "max_height": null,
            "max_width": null,
            "min_height": null,
            "min_width": null,
            "object_fit": null,
            "object_position": null,
            "order": null,
            "overflow": null,
            "overflow_x": null,
            "overflow_y": null,
            "padding": null,
            "right": null,
            "top": null,
            "visibility": null,
            "width": null
          }
        },
        "391feaf1dc5248d882cdc470d77f6bce": {
          "model_module": "@jupyter-widgets/base",
          "model_name": "LayoutModel",
          "model_module_version": "1.2.0",
          "state": {
            "_model_module": "@jupyter-widgets/base",
            "_model_module_version": "1.2.0",
            "_model_name": "LayoutModel",
            "_view_count": null,
            "_view_module": "@jupyter-widgets/base",
            "_view_module_version": "1.2.0",
            "_view_name": "LayoutView",
            "align_content": null,
            "align_items": null,
            "align_self": null,
            "border": null,
            "bottom": null,
            "display": null,
            "flex": null,
            "flex_flow": null,
            "grid_area": null,
            "grid_auto_columns": null,
            "grid_auto_flow": null,
            "grid_auto_rows": null,
            "grid_column": null,
            "grid_gap": null,
            "grid_row": null,
            "grid_template_areas": null,
            "grid_template_columns": null,
            "grid_template_rows": null,
            "height": null,
            "justify_content": null,
            "justify_items": null,
            "left": null,
            "margin": null,
            "max_height": null,
            "max_width": null,
            "min_height": null,
            "min_width": null,
            "object_fit": null,
            "object_position": null,
            "order": null,
            "overflow": null,
            "overflow_x": null,
            "overflow_y": null,
            "padding": null,
            "right": null,
            "top": null,
            "visibility": null,
            "width": null
          }
        },
        "63dca23820ab4138ada9d8b22a32b59d": {
          "model_module": "@jupyter-widgets/controls",
          "model_name": "DescriptionStyleModel",
          "model_module_version": "1.5.0",
          "state": {
            "_model_module": "@jupyter-widgets/controls",
            "_model_module_version": "1.5.0",
            "_model_name": "DescriptionStyleModel",
            "_view_count": null,
            "_view_module": "@jupyter-widgets/base",
            "_view_module_version": "1.2.0",
            "_view_name": "StyleView",
            "description_width": ""
          }
        },
        "6f2bc930283848c2b2f1f6955c61e669": {
          "model_module": "@jupyter-widgets/base",
          "model_name": "LayoutModel",
          "model_module_version": "1.2.0",
          "state": {
            "_model_module": "@jupyter-widgets/base",
            "_model_module_version": "1.2.0",
            "_model_name": "LayoutModel",
            "_view_count": null,
            "_view_module": "@jupyter-widgets/base",
            "_view_module_version": "1.2.0",
            "_view_name": "LayoutView",
            "align_content": null,
            "align_items": null,
            "align_self": null,
            "border": null,
            "bottom": null,
            "display": null,
            "flex": null,
            "flex_flow": null,
            "grid_area": null,
            "grid_auto_columns": null,
            "grid_auto_flow": null,
            "grid_auto_rows": null,
            "grid_column": null,
            "grid_gap": null,
            "grid_row": null,
            "grid_template_areas": null,
            "grid_template_columns": null,
            "grid_template_rows": null,
            "height": null,
            "justify_content": null,
            "justify_items": null,
            "left": null,
            "margin": null,
            "max_height": null,
            "max_width": null,
            "min_height": null,
            "min_width": null,
            "object_fit": null,
            "object_position": null,
            "order": null,
            "overflow": null,
            "overflow_x": null,
            "overflow_y": null,
            "padding": null,
            "right": null,
            "top": null,
            "visibility": null,
            "width": null
          }
        },
        "e6e586e4392d44e4ad6b23fb149b3e43": {
          "model_module": "@jupyter-widgets/controls",
          "model_name": "ProgressStyleModel",
          "model_module_version": "1.5.0",
          "state": {
            "_model_module": "@jupyter-widgets/controls",
            "_model_module_version": "1.5.0",
            "_model_name": "ProgressStyleModel",
            "_view_count": null,
            "_view_module": "@jupyter-widgets/base",
            "_view_module_version": "1.2.0",
            "_view_name": "StyleView",
            "bar_color": null,
            "description_width": ""
          }
        },
        "1375420bb4754625a15da03ae376bf94": {
          "model_module": "@jupyter-widgets/base",
          "model_name": "LayoutModel",
          "model_module_version": "1.2.0",
          "state": {
            "_model_module": "@jupyter-widgets/base",
            "_model_module_version": "1.2.0",
            "_model_name": "LayoutModel",
            "_view_count": null,
            "_view_module": "@jupyter-widgets/base",
            "_view_module_version": "1.2.0",
            "_view_name": "LayoutView",
            "align_content": null,
            "align_items": null,
            "align_self": null,
            "border": null,
            "bottom": null,
            "display": null,
            "flex": null,
            "flex_flow": null,
            "grid_area": null,
            "grid_auto_columns": null,
            "grid_auto_flow": null,
            "grid_auto_rows": null,
            "grid_column": null,
            "grid_gap": null,
            "grid_row": null,
            "grid_template_areas": null,
            "grid_template_columns": null,
            "grid_template_rows": null,
            "height": null,
            "justify_content": null,
            "justify_items": null,
            "left": null,
            "margin": null,
            "max_height": null,
            "max_width": null,
            "min_height": null,
            "min_width": null,
            "object_fit": null,
            "object_position": null,
            "order": null,
            "overflow": null,
            "overflow_x": null,
            "overflow_y": null,
            "padding": null,
            "right": null,
            "top": null,
            "visibility": null,
            "width": null
          }
        },
        "04d5ebe37d4445efac93541b2794d926": {
          "model_module": "@jupyter-widgets/controls",
          "model_name": "DescriptionStyleModel",
          "model_module_version": "1.5.0",
          "state": {
            "_model_module": "@jupyter-widgets/controls",
            "_model_module_version": "1.5.0",
            "_model_name": "DescriptionStyleModel",
            "_view_count": null,
            "_view_module": "@jupyter-widgets/base",
            "_view_module_version": "1.2.0",
            "_view_name": "StyleView",
            "description_width": ""
          }
        },
        "3c3d2fee27cf4e18a6779c2fbac304ff": {
          "model_module": "@jupyter-widgets/controls",
          "model_name": "HBoxModel",
          "model_module_version": "1.5.0",
          "state": {
            "_dom_classes": [],
            "_model_module": "@jupyter-widgets/controls",
            "_model_module_version": "1.5.0",
            "_model_name": "HBoxModel",
            "_view_count": null,
            "_view_module": "@jupyter-widgets/controls",
            "_view_module_version": "1.5.0",
            "_view_name": "HBoxView",
            "box_style": "",
            "children": [
              "IPY_MODEL_f3d4c4f4bb614ed7880c55f6d4299b04",
              "IPY_MODEL_a5cdcbd085f0494287e55e647165bb3b",
              "IPY_MODEL_beb68dc0764b4ad79a904b6fce35a0b3"
            ],
            "layout": "IPY_MODEL_fd3cf6f51e6447788b324924f7ffc07b"
          }
        },
        "f3d4c4f4bb614ed7880c55f6d4299b04": {
          "model_module": "@jupyter-widgets/controls",
          "model_name": "HTMLModel",
          "model_module_version": "1.5.0",
          "state": {
            "_dom_classes": [],
            "_model_module": "@jupyter-widgets/controls",
            "_model_module_version": "1.5.0",
            "_model_name": "HTMLModel",
            "_view_count": null,
            "_view_module": "@jupyter-widgets/controls",
            "_view_module_version": "1.5.0",
            "_view_name": "HTMLView",
            "description": "",
            "description_tooltip": null,
            "layout": "IPY_MODEL_e508e9dfbdd7407fa5f88b8a89d14742",
            "placeholder": "​",
            "style": "IPY_MODEL_6ed92058f4834e90a00ab0731038dd01",
            "value": "target.spm: 100%"
          }
        },
        "a5cdcbd085f0494287e55e647165bb3b": {
          "model_module": "@jupyter-widgets/controls",
          "model_name": "FloatProgressModel",
          "model_module_version": "1.5.0",
          "state": {
            "_dom_classes": [],
            "_model_module": "@jupyter-widgets/controls",
            "_model_module_version": "1.5.0",
            "_model_name": "FloatProgressModel",
            "_view_count": null,
            "_view_module": "@jupyter-widgets/controls",
            "_view_module_version": "1.5.0",
            "_view_name": "ProgressView",
            "bar_style": "success",
            "description": "",
            "description_tooltip": null,
            "layout": "IPY_MODEL_4e01f5499761489193110ddb9d4646a8",
            "max": 802397,
            "min": 0,
            "orientation": "horizontal",
            "style": "IPY_MODEL_d83ef1daed454119b6a6cf28f5864c4a",
            "value": 802397
          }
        },
        "beb68dc0764b4ad79a904b6fce35a0b3": {
          "model_module": "@jupyter-widgets/controls",
          "model_name": "HTMLModel",
          "model_module_version": "1.5.0",
          "state": {
            "_dom_classes": [],
            "_model_module": "@jupyter-widgets/controls",
            "_model_module_version": "1.5.0",
            "_model_name": "HTMLModel",
            "_view_count": null,
            "_view_module": "@jupyter-widgets/controls",
            "_view_module_version": "1.5.0",
            "_view_name": "HTMLView",
            "description": "",
            "description_tooltip": null,
            "layout": "IPY_MODEL_472ca66718cd4170b9c368f93c443baf",
            "placeholder": "​",
            "style": "IPY_MODEL_99dd2898ce35469882bba2bc9e40a153",
            "value": " 802k/802k [00:00&lt;00:00, 11.6MB/s]"
          }
        },
        "fd3cf6f51e6447788b324924f7ffc07b": {
          "model_module": "@jupyter-widgets/base",
          "model_name": "LayoutModel",
          "model_module_version": "1.2.0",
          "state": {
            "_model_module": "@jupyter-widgets/base",
            "_model_module_version": "1.2.0",
            "_model_name": "LayoutModel",
            "_view_count": null,
            "_view_module": "@jupyter-widgets/base",
            "_view_module_version": "1.2.0",
            "_view_name": "LayoutView",
            "align_content": null,
            "align_items": null,
            "align_self": null,
            "border": null,
            "bottom": null,
            "display": null,
            "flex": null,
            "flex_flow": null,
            "grid_area": null,
            "grid_auto_columns": null,
            "grid_auto_flow": null,
            "grid_auto_rows": null,
            "grid_column": null,
            "grid_gap": null,
            "grid_row": null,
            "grid_template_areas": null,
            "grid_template_columns": null,
            "grid_template_rows": null,
            "height": null,
            "justify_content": null,
            "justify_items": null,
            "left": null,
            "margin": null,
            "max_height": null,
            "max_width": null,
            "min_height": null,
            "min_width": null,
            "object_fit": null,
            "object_position": null,
            "order": null,
            "overflow": null,
            "overflow_x": null,
            "overflow_y": null,
            "padding": null,
            "right": null,
            "top": null,
            "visibility": null,
            "width": null
          }
        },
        "e508e9dfbdd7407fa5f88b8a89d14742": {
          "model_module": "@jupyter-widgets/base",
          "model_name": "LayoutModel",
          "model_module_version": "1.2.0",
          "state": {
            "_model_module": "@jupyter-widgets/base",
            "_model_module_version": "1.2.0",
            "_model_name": "LayoutModel",
            "_view_count": null,
            "_view_module": "@jupyter-widgets/base",
            "_view_module_version": "1.2.0",
            "_view_name": "LayoutView",
            "align_content": null,
            "align_items": null,
            "align_self": null,
            "border": null,
            "bottom": null,
            "display": null,
            "flex": null,
            "flex_flow": null,
            "grid_area": null,
            "grid_auto_columns": null,
            "grid_auto_flow": null,
            "grid_auto_rows": null,
            "grid_column": null,
            "grid_gap": null,
            "grid_row": null,
            "grid_template_areas": null,
            "grid_template_columns": null,
            "grid_template_rows": null,
            "height": null,
            "justify_content": null,
            "justify_items": null,
            "left": null,
            "margin": null,
            "max_height": null,
            "max_width": null,
            "min_height": null,
            "min_width": null,
            "object_fit": null,
            "object_position": null,
            "order": null,
            "overflow": null,
            "overflow_x": null,
            "overflow_y": null,
            "padding": null,
            "right": null,
            "top": null,
            "visibility": null,
            "width": null
          }
        },
        "6ed92058f4834e90a00ab0731038dd01": {
          "model_module": "@jupyter-widgets/controls",
          "model_name": "DescriptionStyleModel",
          "model_module_version": "1.5.0",
          "state": {
            "_model_module": "@jupyter-widgets/controls",
            "_model_module_version": "1.5.0",
            "_model_name": "DescriptionStyleModel",
            "_view_count": null,
            "_view_module": "@jupyter-widgets/base",
            "_view_module_version": "1.2.0",
            "_view_name": "StyleView",
            "description_width": ""
          }
        },
        "4e01f5499761489193110ddb9d4646a8": {
          "model_module": "@jupyter-widgets/base",
          "model_name": "LayoutModel",
          "model_module_version": "1.2.0",
          "state": {
            "_model_module": "@jupyter-widgets/base",
            "_model_module_version": "1.2.0",
            "_model_name": "LayoutModel",
            "_view_count": null,
            "_view_module": "@jupyter-widgets/base",
            "_view_module_version": "1.2.0",
            "_view_name": "LayoutView",
            "align_content": null,
            "align_items": null,
            "align_self": null,
            "border": null,
            "bottom": null,
            "display": null,
            "flex": null,
            "flex_flow": null,
            "grid_area": null,
            "grid_auto_columns": null,
            "grid_auto_flow": null,
            "grid_auto_rows": null,
            "grid_column": null,
            "grid_gap": null,
            "grid_row": null,
            "grid_template_areas": null,
            "grid_template_columns": null,
            "grid_template_rows": null,
            "height": null,
            "justify_content": null,
            "justify_items": null,
            "left": null,
            "margin": null,
            "max_height": null,
            "max_width": null,
            "min_height": null,
            "min_width": null,
            "object_fit": null,
            "object_position": null,
            "order": null,
            "overflow": null,
            "overflow_x": null,
            "overflow_y": null,
            "padding": null,
            "right": null,
            "top": null,
            "visibility": null,
            "width": null
          }
        },
        "d83ef1daed454119b6a6cf28f5864c4a": {
          "model_module": "@jupyter-widgets/controls",
          "model_name": "ProgressStyleModel",
          "model_module_version": "1.5.0",
          "state": {
            "_model_module": "@jupyter-widgets/controls",
            "_model_module_version": "1.5.0",
            "_model_name": "ProgressStyleModel",
            "_view_count": null,
            "_view_module": "@jupyter-widgets/base",
            "_view_module_version": "1.2.0",
            "_view_name": "StyleView",
            "bar_color": null,
            "description_width": ""
          }
        },
        "472ca66718cd4170b9c368f93c443baf": {
          "model_module": "@jupyter-widgets/base",
          "model_name": "LayoutModel",
          "model_module_version": "1.2.0",
          "state": {
            "_model_module": "@jupyter-widgets/base",
            "_model_module_version": "1.2.0",
            "_model_name": "LayoutModel",
            "_view_count": null,
            "_view_module": "@jupyter-widgets/base",
            "_view_module_version": "1.2.0",
            "_view_name": "LayoutView",
            "align_content": null,
            "align_items": null,
            "align_self": null,
            "border": null,
            "bottom": null,
            "display": null,
            "flex": null,
            "flex_flow": null,
            "grid_area": null,
            "grid_auto_columns": null,
            "grid_auto_flow": null,
            "grid_auto_rows": null,
            "grid_column": null,
            "grid_gap": null,
            "grid_row": null,
            "grid_template_areas": null,
            "grid_template_columns": null,
            "grid_template_rows": null,
            "height": null,
            "justify_content": null,
            "justify_items": null,
            "left": null,
            "margin": null,
            "max_height": null,
            "max_width": null,
            "min_height": null,
            "min_width": null,
            "object_fit": null,
            "object_position": null,
            "order": null,
            "overflow": null,
            "overflow_x": null,
            "overflow_y": null,
            "padding": null,
            "right": null,
            "top": null,
            "visibility": null,
            "width": null
          }
        },
        "99dd2898ce35469882bba2bc9e40a153": {
          "model_module": "@jupyter-widgets/controls",
          "model_name": "DescriptionStyleModel",
          "model_module_version": "1.5.0",
          "state": {
            "_model_module": "@jupyter-widgets/controls",
            "_model_module_version": "1.5.0",
            "_model_name": "DescriptionStyleModel",
            "_view_count": null,
            "_view_module": "@jupyter-widgets/base",
            "_view_module_version": "1.2.0",
            "_view_name": "StyleView",
            "description_width": ""
          }
        },
        "3def2fbce1624f4eb2ee1f28f7cbdf64": {
          "model_module": "@jupyter-widgets/controls",
          "model_name": "HBoxModel",
          "model_module_version": "1.5.0",
          "state": {
            "_dom_classes": [],
            "_model_module": "@jupyter-widgets/controls",
            "_model_module_version": "1.5.0",
            "_model_name": "HBoxModel",
            "_view_count": null,
            "_view_module": "@jupyter-widgets/controls",
            "_view_module_version": "1.5.0",
            "_view_name": "HBoxView",
            "box_style": "",
            "children": [
              "IPY_MODEL_e85b2c41b37f4dd5be6cfc6aab67000c",
              "IPY_MODEL_7c14a902ad00413a8c5f398313a00f64",
              "IPY_MODEL_1d914a9fbfd1499ebdf324e862dde75e"
            ],
            "layout": "IPY_MODEL_8a033c3aa19d41e7b8d7c27a1e57be03"
          }
        },
        "e85b2c41b37f4dd5be6cfc6aab67000c": {
          "model_module": "@jupyter-widgets/controls",
          "model_name": "HTMLModel",
          "model_module_version": "1.5.0",
          "state": {
            "_dom_classes": [],
            "_model_module": "@jupyter-widgets/controls",
            "_model_module_version": "1.5.0",
            "_model_name": "HTMLModel",
            "_view_count": null,
            "_view_module": "@jupyter-widgets/controls",
            "_view_module_version": "1.5.0",
            "_view_name": "HTMLView",
            "description": "",
            "description_tooltip": null,
            "layout": "IPY_MODEL_bfebc48391b24ee09ceb43248b013ef3",
            "placeholder": "​",
            "style": "IPY_MODEL_ef38659d607f4283a361d2f8672b8332",
            "value": "vocab.json: 100%"
          }
        },
        "7c14a902ad00413a8c5f398313a00f64": {
          "model_module": "@jupyter-widgets/controls",
          "model_name": "FloatProgressModel",
          "model_module_version": "1.5.0",
          "state": {
            "_dom_classes": [],
            "_model_module": "@jupyter-widgets/controls",
            "_model_module_version": "1.5.0",
            "_model_name": "FloatProgressModel",
            "_view_count": null,
            "_view_module": "@jupyter-widgets/controls",
            "_view_module_version": "1.5.0",
            "_view_name": "ProgressView",
            "bar_style": "success",
            "description": "",
            "description_tooltip": null,
            "layout": "IPY_MODEL_bce01fb7d9694193a8f39026e450cfe3",
            "max": 1339166,
            "min": 0,
            "orientation": "horizontal",
            "style": "IPY_MODEL_70eb54e1644a40a8a05080e6c26c240f",
            "value": 1339166
          }
        },
        "1d914a9fbfd1499ebdf324e862dde75e": {
          "model_module": "@jupyter-widgets/controls",
          "model_name": "HTMLModel",
          "model_module_version": "1.5.0",
          "state": {
            "_dom_classes": [],
            "_model_module": "@jupyter-widgets/controls",
            "_model_module_version": "1.5.0",
            "_model_name": "HTMLModel",
            "_view_count": null,
            "_view_module": "@jupyter-widgets/controls",
            "_view_module_version": "1.5.0",
            "_view_name": "HTMLView",
            "description": "",
            "description_tooltip": null,
            "layout": "IPY_MODEL_927a8efb06b84196bb27ec46b6ea1f36",
            "placeholder": "​",
            "style": "IPY_MODEL_92ee7ff036504b38922b79b3788d660d",
            "value": " 1.34M/1.34M [00:00&lt;00:00, 16.5MB/s]"
          }
        },
        "8a033c3aa19d41e7b8d7c27a1e57be03": {
          "model_module": "@jupyter-widgets/base",
          "model_name": "LayoutModel",
          "model_module_version": "1.2.0",
          "state": {
            "_model_module": "@jupyter-widgets/base",
            "_model_module_version": "1.2.0",
            "_model_name": "LayoutModel",
            "_view_count": null,
            "_view_module": "@jupyter-widgets/base",
            "_view_module_version": "1.2.0",
            "_view_name": "LayoutView",
            "align_content": null,
            "align_items": null,
            "align_self": null,
            "border": null,
            "bottom": null,
            "display": null,
            "flex": null,
            "flex_flow": null,
            "grid_area": null,
            "grid_auto_columns": null,
            "grid_auto_flow": null,
            "grid_auto_rows": null,
            "grid_column": null,
            "grid_gap": null,
            "grid_row": null,
            "grid_template_areas": null,
            "grid_template_columns": null,
            "grid_template_rows": null,
            "height": null,
            "justify_content": null,
            "justify_items": null,
            "left": null,
            "margin": null,
            "max_height": null,
            "max_width": null,
            "min_height": null,
            "min_width": null,
            "object_fit": null,
            "object_position": null,
            "order": null,
            "overflow": null,
            "overflow_x": null,
            "overflow_y": null,
            "padding": null,
            "right": null,
            "top": null,
            "visibility": null,
            "width": null
          }
        },
        "bfebc48391b24ee09ceb43248b013ef3": {
          "model_module": "@jupyter-widgets/base",
          "model_name": "LayoutModel",
          "model_module_version": "1.2.0",
          "state": {
            "_model_module": "@jupyter-widgets/base",
            "_model_module_version": "1.2.0",
            "_model_name": "LayoutModel",
            "_view_count": null,
            "_view_module": "@jupyter-widgets/base",
            "_view_module_version": "1.2.0",
            "_view_name": "LayoutView",
            "align_content": null,
            "align_items": null,
            "align_self": null,
            "border": null,
            "bottom": null,
            "display": null,
            "flex": null,
            "flex_flow": null,
            "grid_area": null,
            "grid_auto_columns": null,
            "grid_auto_flow": null,
            "grid_auto_rows": null,
            "grid_column": null,
            "grid_gap": null,
            "grid_row": null,
            "grid_template_areas": null,
            "grid_template_columns": null,
            "grid_template_rows": null,
            "height": null,
            "justify_content": null,
            "justify_items": null,
            "left": null,
            "margin": null,
            "max_height": null,
            "max_width": null,
            "min_height": null,
            "min_width": null,
            "object_fit": null,
            "object_position": null,
            "order": null,
            "overflow": null,
            "overflow_x": null,
            "overflow_y": null,
            "padding": null,
            "right": null,
            "top": null,
            "visibility": null,
            "width": null
          }
        },
        "ef38659d607f4283a361d2f8672b8332": {
          "model_module": "@jupyter-widgets/controls",
          "model_name": "DescriptionStyleModel",
          "model_module_version": "1.5.0",
          "state": {
            "_model_module": "@jupyter-widgets/controls",
            "_model_module_version": "1.5.0",
            "_model_name": "DescriptionStyleModel",
            "_view_count": null,
            "_view_module": "@jupyter-widgets/base",
            "_view_module_version": "1.2.0",
            "_view_name": "StyleView",
            "description_width": ""
          }
        },
        "bce01fb7d9694193a8f39026e450cfe3": {
          "model_module": "@jupyter-widgets/base",
          "model_name": "LayoutModel",
          "model_module_version": "1.2.0",
          "state": {
            "_model_module": "@jupyter-widgets/base",
            "_model_module_version": "1.2.0",
            "_model_name": "LayoutModel",
            "_view_count": null,
            "_view_module": "@jupyter-widgets/base",
            "_view_module_version": "1.2.0",
            "_view_name": "LayoutView",
            "align_content": null,
            "align_items": null,
            "align_self": null,
            "border": null,
            "bottom": null,
            "display": null,
            "flex": null,
            "flex_flow": null,
            "grid_area": null,
            "grid_auto_columns": null,
            "grid_auto_flow": null,
            "grid_auto_rows": null,
            "grid_column": null,
            "grid_gap": null,
            "grid_row": null,
            "grid_template_areas": null,
            "grid_template_columns": null,
            "grid_template_rows": null,
            "height": null,
            "justify_content": null,
            "justify_items": null,
            "left": null,
            "margin": null,
            "max_height": null,
            "max_width": null,
            "min_height": null,
            "min_width": null,
            "object_fit": null,
            "object_position": null,
            "order": null,
            "overflow": null,
            "overflow_x": null,
            "overflow_y": null,
            "padding": null,
            "right": null,
            "top": null,
            "visibility": null,
            "width": null
          }
        },
        "70eb54e1644a40a8a05080e6c26c240f": {
          "model_module": "@jupyter-widgets/controls",
          "model_name": "ProgressStyleModel",
          "model_module_version": "1.5.0",
          "state": {
            "_model_module": "@jupyter-widgets/controls",
            "_model_module_version": "1.5.0",
            "_model_name": "ProgressStyleModel",
            "_view_count": null,
            "_view_module": "@jupyter-widgets/base",
            "_view_module_version": "1.2.0",
            "_view_name": "StyleView",
            "bar_color": null,
            "description_width": ""
          }
        },
        "927a8efb06b84196bb27ec46b6ea1f36": {
          "model_module": "@jupyter-widgets/base",
          "model_name": "LayoutModel",
          "model_module_version": "1.2.0",
          "state": {
            "_model_module": "@jupyter-widgets/base",
            "_model_module_version": "1.2.0",
            "_model_name": "LayoutModel",
            "_view_count": null,
            "_view_module": "@jupyter-widgets/base",
            "_view_module_version": "1.2.0",
            "_view_name": "LayoutView",
            "align_content": null,
            "align_items": null,
            "align_self": null,
            "border": null,
            "bottom": null,
            "display": null,
            "flex": null,
            "flex_flow": null,
            "grid_area": null,
            "grid_auto_columns": null,
            "grid_auto_flow": null,
            "grid_auto_rows": null,
            "grid_column": null,
            "grid_gap": null,
            "grid_row": null,
            "grid_template_areas": null,
            "grid_template_columns": null,
            "grid_template_rows": null,
            "height": null,
            "justify_content": null,
            "justify_items": null,
            "left": null,
            "margin": null,
            "max_height": null,
            "max_width": null,
            "min_height": null,
            "min_width": null,
            "object_fit": null,
            "object_position": null,
            "order": null,
            "overflow": null,
            "overflow_x": null,
            "overflow_y": null,
            "padding": null,
            "right": null,
            "top": null,
            "visibility": null,
            "width": null
          }
        },
        "92ee7ff036504b38922b79b3788d660d": {
          "model_module": "@jupyter-widgets/controls",
          "model_name": "DescriptionStyleModel",
          "model_module_version": "1.5.0",
          "state": {
            "_model_module": "@jupyter-widgets/controls",
            "_model_module_version": "1.5.0",
            "_model_name": "DescriptionStyleModel",
            "_view_count": null,
            "_view_module": "@jupyter-widgets/base",
            "_view_module_version": "1.2.0",
            "_view_name": "StyleView",
            "description_width": ""
          }
        }
      }
    }
  },
  "cells": [
    {
      "cell_type": "markdown",
      "metadata": {
        "id": "view-in-github",
        "colab_type": "text"
      },
      "source": [
        "<a href=\"https://colab.research.google.com/github/kamini8888/DSA0206-Computer-Vision/blob/main/nlp_programs.ipynb\" target=\"_parent\"><img src=\"https://colab.research.google.com/assets/colab-badge.svg\" alt=\"Open In Colab\"/></a>"
      ]
    },
    {
      "cell_type": "code",
      "execution_count": 6,
      "metadata": {
        "colab": {
          "base_uri": "https://localhost:8080/"
        },
        "id": "q13CHjqgRtEt",
        "outputId": "9cd73cd9-a50c-4a6e-a603-bdb126835bac"
      },
      "outputs": [
        {
          "output_type": "stream",
          "name": "stdout",
          "text": [
            "enter:ddog\n",
            "match not found\n"
          ]
        }
      ],
      "source": [
        "import re\n",
        "text=input(\"enter:\")\n",
        "word=r'\\bdog[0-9]*\\b'\n",
        "match1=re.findall(word,text)\n",
        "if match1:\n",
        "  print(\"match found\")\n",
        "  for a in match1:\n",
        "    print(a)\n",
        "else:\n",
        "  print(\"match not found\")"
      ]
    },
    {
      "cell_type": "code",
      "source": [
        "def match(string):\n",
        "    state = 0\n",
        "    for char in string:\n",
        "        if state == 0 and char == 'a':\n",
        "            state = 1\n",
        "        elif state == 1 and char == 'b':\n",
        "            state = 2\n",
        "    return state == 2\n",
        "\n",
        "print(match(\"hello world\"))\n",
        "print(match(\"ab\"))\n",
        "print(match(\"aab\"))\n",
        "print(match(\"abab\"))"
      ],
      "metadata": {
        "colab": {
          "base_uri": "https://localhost:8080/"
        },
        "id": "az6kqBHARvZh",
        "outputId": "90a2fbff-1d1b-4ab1-e466-ef035f7ce277"
      },
      "execution_count": 4,
      "outputs": [
        {
          "output_type": "stream",
          "name": "stdout",
          "text": [
            "False\n",
            "True\n",
            "True\n",
            "True\n"
          ]
        }
      ]
    },
    {
      "cell_type": "code",
      "source": [
        "from nltk.stem import WordNetLemmatizer\n",
        "from nltk.stem import PorterStemmer\n",
        "from nltk.tokenize import word_tokenize\n",
        "\n",
        "# Sample text\n",
        "text = \"The quick brown foxes jumped over the lazy dogs\"\n",
        "\n",
        "# Tokenize the text into words\n",
        "words = word_tokenize(text)\n",
        "\n",
        "# Initialize Porter Stemmer\n",
        "stemmer = PorterStemmer()\n",
        "# Initialize WordNet Lemmatizer\n",
        "lemmatizer = WordNetLemmatizer()\n",
        "\n",
        "print(\"Word\\t\\tStem\\t\\tLem\")\n",
        "print(\"-------------------\")\n",
        "\n",
        "# Perform morphological analysis for each word\n",
        "for word in words:\n",
        "    stem = stemmer.stem(word)\n",
        "    lemma = lemmatizer.lemmatize(word)\n",
        "\n",
        "    print(f\"{word}\\t\\t{stem}\\t\\t{lemma}\")\n"
      ],
      "metadata": {
        "colab": {
          "base_uri": "https://localhost:8080/"
        },
        "id": "6KgavDMHSskm",
        "outputId": "89cdca22-0dd0-447b-f973-176d53ded4ae"
      },
      "execution_count": 16,
      "outputs": [
        {
          "output_type": "stream",
          "name": "stdout",
          "text": [
            "Word\t\tStem\t\tLem\n",
            "-------------------\n",
            "The\t\tthe\t\tThe\n",
            "quick\t\tquick\t\tquick\n",
            "brown\t\tbrown\t\tbrown\n",
            "foxes\t\tfox\t\tfox\n",
            "jumped\t\tjump\t\tjumped\n",
            "over\t\tover\t\tover\n",
            "the\t\tthe\t\tthe\n",
            "lazy\t\tlazi\t\tlazy\n",
            "dogs\t\tdog\t\tdog\n"
          ]
        }
      ]
    },
    {
      "cell_type": "code",
      "source": [
        "class PluralizationFSM:\n",
        "    def __init__(self):\n",
        "        self.state = 0  # Initial state\n",
        "\n",
        "    def transition(self, word):\n",
        "        if self.state == 0:\n",
        "            if word == 'man':self.state = 4  # Noun is 'man', pluralize as 'men'\n",
        "            elif word.endswith('s'):self.state = 1  # Noun ends with 's', no change\n",
        "            elif word.endswith('y'):self.state = 2  # Noun ends with 'y,' switch to 'ies'\n",
        "            else:self.state = 3  # Noun ends with another letter, add 's'\n",
        "\n",
        "    def pluralize(self, word):\n",
        "        self.state = 0  # Reset the state\n",
        "        self.transition(word)  # Transition based on rules\n",
        "        if self.state == 1:return word  # No change\n",
        "        elif self.state == 2:return word[:-1] + 'ies'  # Change 'y' to 'ies'\n",
        "        elif self.state == 3:\n",
        "            return word + 's'  # Add 's'\n",
        "        elif self.state == 4:return 'men'  # Special case for 'man'\n",
        "\n",
        "# Example usage\n",
        "if __name__ == \"__main__\":\n",
        "    fsm = PluralizationFSM()\n",
        "    nouns = ['cat', 'dog', 'bus', 'dress', 'class', 'man']\n",
        "    for singular in nouns:\n",
        "        plural = fsm.pluralize(singular)\n",
        "        print(f\"{singular} (singular) -> {plural} (plural)\")\n"
      ],
      "metadata": {
        "colab": {
          "base_uri": "https://localhost:8080/"
        },
        "id": "VbLorZVxS21V",
        "outputId": "36c5db35-4ea1-49ed-b6ac-9212560f884d"
      },
      "execution_count": 22,
      "outputs": [
        {
          "output_type": "stream",
          "name": "stdout",
          "text": [
            "cat (singular) -> cats (plural)\n",
            "dog (singular) -> dogs (plural)\n",
            "bus (singular) -> bus (plural)\n",
            "dress (singular) -> dress (plural)\n",
            "class (singular) -> class (plural)\n",
            "man (singular) -> men (plural)\n"
          ]
        }
      ]
    },
    {
      "cell_type": "code",
      "source": [
        "import nltk\n",
        "from nltk.stem import PorterStemmer\n",
        "port=PorterStemmer()\n",
        "word=\"running\"\n",
        "stemmed=port.stem(word)\n",
        "print(stemmed)"
      ],
      "metadata": {
        "colab": {
          "base_uri": "https://localhost:8080/"
        },
        "id": "fmxuCec8TIxh",
        "outputId": "9a54667f-c77a-48f9-cc0e-8cae7c664890"
      },
      "execution_count": 23,
      "outputs": [
        {
          "output_type": "stream",
          "name": "stdout",
          "text": [
            "run\n"
          ]
        }
      ]
    },
    {
      "cell_type": "code",
      "source": [
        "import random\n",
        "\n",
        "def build_bigram_model(corpus):\n",
        "    bigram_model = {}\n",
        "    for sentence in corpus:\n",
        "        words = sentence.split()\n",
        "        for i in range(len(words) - 1):\n",
        "            bigram_model.setdefault(words[i], []).append(words[i + 1])\n",
        "    return bigram_model\n",
        "\n",
        "def generate_text(bigram_model, seed_word, length=10):\n",
        "    generated_text = [seed_word]\n",
        "    for _ in range(length - 1):\n",
        "        next_word = random.choice(bigram_model.get(generated_text[-1], []))\n",
        "        if not next_word:\n",
        "            break\n",
        "        generated_text.append(next_word)\n",
        "    return ' '.join(generated_text)\n",
        "\n",
        "# Example usage\n",
        "corpus = [\n",
        "    \"This is a sample sentence.\",\n",
        "    \"A sample sentence is what we have here.\",\n",
        "    \"Here is another example for testing.\",\n",
        "    \"Testing the bigram model implementation.\"\n",
        "]\n",
        "\n",
        "bigram_model = build_bigram_model(corpus)\n",
        "seed_word = \"This\"\n",
        "generated_text = generate_text(bigram_model, seed_word, length=8)\n",
        "print(\"Generated Text:\", generated_text)\n"
      ],
      "metadata": {
        "colab": {
          "base_uri": "https://localhost:8080/"
        },
        "id": "N5QjgoI7YP7j",
        "outputId": "6d16c388-c3ce-4fc0-90f6-07dd1b1e792f"
      },
      "execution_count": 28,
      "outputs": [
        {
          "output_type": "stream",
          "name": "stdout",
          "text": [
            "Generated Text: This is a sample sentence is a sample\n"
          ]
        }
      ]
    },
    {
      "cell_type": "code",
      "source": [
        "import nltk\n",
        "from nltk.tokenize import word_tokenize\n",
        "from nltk import pos_tag\n",
        "import nltk\n",
        "nltk.download('averaged_perceptron_tagger')\n",
        "text = \"this is a cat\"\n",
        "\n",
        "tokens = word_tokenize(text)\n",
        "\n",
        "pos_tags = nltk.pos_tag(tokens)\n",
        "\n",
        "print(\"Original Text:\", text)\n",
        "print(\"\\nPart-of-speech Tags:\", pos_tags)"
      ],
      "metadata": {
        "colab": {
          "base_uri": "https://localhost:8080/"
        },
        "id": "VLJVoZ1qZBdN",
        "outputId": "282e8d65-9762-43c7-ff7d-463d82d33926"
      },
      "execution_count": 32,
      "outputs": [
        {
          "output_type": "stream",
          "name": "stderr",
          "text": [
            "[nltk_data] Downloading package averaged_perceptron_tagger to\n",
            "[nltk_data]     /root/nltk_data...\n",
            "[nltk_data]   Unzipping taggers/averaged_perceptron_tagger.zip.\n"
          ]
        },
        {
          "output_type": "stream",
          "name": "stdout",
          "text": [
            "Original Text: this is a cat\n",
            "\n",
            "Part-of-speech Tags: [('this', 'DT'), ('is', 'VBZ'), ('a', 'DT'), ('cat', 'NN')]\n"
          ]
        }
      ]
    },
    {
      "cell_type": "code",
      "source": [
        "import random\n",
        "sentence = \"The quick brown fox jumps over the lazy dog\"\n",
        "words = sentence.split()\n",
        "pos_model = {\n",
        "    'The': 'DT',\n",
        "    'quick': 'JJ',\n",
        "    'brown': 'JJ',\n",
        "    'fox': 'NN',\n",
        "    'jumps': 'VB',\n",
        "    'over': 'IN',\n",
        "    'the': 'DT',\n",
        "    'lazy': 'JJ',\n",
        "    'dog': 'NN'\n",
        "}\n",
        "pos_tags = [pos_model.get(word, random.choice(['NN', 'VB', 'JJ', 'DT', 'IN'])) for word in words]\n",
        "tagged_sentence = list(zip(words, pos_tags))\n",
        "print(tagged_sentence)"
      ],
      "metadata": {
        "colab": {
          "base_uri": "https://localhost:8080/"
        },
        "id": "Y0S5P-AnbB9z",
        "outputId": "802dd20f-9191-44ea-d57e-2ccfbb631fcc"
      },
      "execution_count": 33,
      "outputs": [
        {
          "output_type": "stream",
          "name": "stdout",
          "text": [
            "[('The', 'DT'), ('quick', 'JJ'), ('brown', 'JJ'), ('fox', 'NN'), ('jumps', 'VB'), ('over', 'IN'), ('the', 'DT'), ('lazy', 'JJ'), ('dog', 'NN')]\n"
          ]
        }
      ]
    },
    {
      "cell_type": "code",
      "source": [
        "import re\n",
        "sentence = \"The quick brown fox jumps over the lazy dog\"\n",
        "pos_rules = [\n",
        "    (r'\\bThe\\b', 'DT'),             # Determiner\n",
        "    (r'\\bquick\\b', 'JJ'),           # Adjective\n",
        "    (r'\\bbrown\\b', 'JJ'),           # Adjective\n",
        "    (r'\\bfox\\b', 'NN'),             # Noun\n",
        "    (r'\\bjumps\\b', 'VB'),           # Verb\n",
        "    (r'\\bover\\b', 'IN'),            # Preposition\n",
        "    (r'\\bthe\\b', 'DT'),             # Determiner\n",
        "    (r'\\blazy\\b', 'JJ'),            # Adjective\n",
        "    (r'\\bdog\\b', 'NN')              # Noun\n",
        "]\n",
        "words = sentence.split()\n",
        "pos_tags = []\n",
        "for word in words:\n",
        "    for pattern, pos_tag in pos_rules:\n",
        "        if re.search(pattern, word, re.IGNORECASE):\n",
        "            pos_tags.append((word, pos_tag))\n",
        "            break\n",
        "    else:\n",
        "        pos_tags.append((word, 'NN'))\n",
        "print(pos_tags)"
      ],
      "metadata": {
        "colab": {
          "base_uri": "https://localhost:8080/"
        },
        "id": "389PMY34b92G",
        "outputId": "375d58cb-cab7-4179-eeae-0550b266d3f4"
      },
      "execution_count": 34,
      "outputs": [
        {
          "output_type": "stream",
          "name": "stdout",
          "text": [
            "[('The', 'DT'), ('quick', 'JJ'), ('brown', 'JJ'), ('fox', 'NN'), ('jumps', 'VB'), ('over', 'IN'), ('the', 'DT'), ('lazy', 'JJ'), ('dog', 'NN')]\n"
          ]
        }
      ]
    },
    {
      "cell_type": "code",
      "source": [
        "import re\n",
        "sentence = \"The quick brown fox jumps over the lazy dog\"\n",
        "initial_tagging = {\n",
        "    'The': 'DT',\n",
        "    'quick': 'NN',\n",
        "    'brown': 'NN',\n",
        "    'fox': 'NN',\n",
        "    'jumps': 'NN',\n",
        "    'over': 'IN',\n",
        "    'the': 'DT',\n",
        "    'lazy': 'NN',\n",
        "    'dog': 'NN'\n",
        "}\n",
        "transformation_rules = [\n",
        "    (r'(\\w+) DT (\\w+)', r'\\1 NN \\2'),\n",
        "    (r'(\\w+) IN (\\w+)', r'\\1 NN \\2'),\n",
        "    (r'(\\w+) NN (\\w+)', r'\\1 VB \\2'),\n",
        "    (r'(\\w+) NN (\\w+)', r'\\1 JJ \\2'),\n",
        "]\n",
        "improvement = True\n",
        "while improvement:\n",
        "    improvement = False\n",
        "    previous_tagging = initial_tagging.copy()\n",
        "    for rule in transformation_rules:\n",
        "        pattern, replacement = rule\n",
        "        for word in initial_tagging:\n",
        "            initial_tagging[word] = re.sub(pattern, replacement, initial_tagging[word])\n",
        "    if initial_tagging != previous_tagging:\n",
        "        improvement = True\n",
        "tagged_sentence = [(word, tag) for word, tag in initial_tagging.items()]\n",
        "print(tagged_sentence)"
      ],
      "metadata": {
        "colab": {
          "base_uri": "https://localhost:8080/"
        },
        "id": "Pw4T_7aBcdjX",
        "outputId": "47610753-8941-41a1-d600-dee4f2056f92"
      },
      "execution_count": 35,
      "outputs": [
        {
          "output_type": "stream",
          "name": "stdout",
          "text": [
            "[('The', 'DT'), ('quick', 'NN'), ('brown', 'NN'), ('fox', 'NN'), ('jumps', 'NN'), ('over', 'IN'), ('the', 'DT'), ('lazy', 'NN'), ('dog', 'NN')]\n"
          ]
        }
      ]
    },
    {
      "cell_type": "code",
      "source": [
        "class Grammar:\n",
        "    def __init__(self, productions):\n",
        "        self.productions = productions\n",
        "\n",
        "class Parser:\n",
        "    def __init__(self, grammar):\n",
        "        self.grammar = grammar\n",
        "\n",
        "    def parse(self, input_string):\n",
        "        tokens = input_string.split()\n",
        "        start_productions = self.grammar.productions.get('S', [])\n",
        "        return any(self.try_production(production, tokens) for production in start_productions)\n",
        "\n",
        "    def try_production(self, production, tokens):\n",
        "        token_iter = iter(tokens)\n",
        "        return all(\n",
        "            token == next(token_iter) if token.islower()\n",
        "            else any(self.try_production(prod, token_iter) for prod in self.grammar.productions.get(token, []))\n",
        "            for token in production\n",
        "        )\n",
        "\n",
        "# Example usage:\n",
        "grammar = Grammar({'S': [['NP', 'VP']], 'NP': [['the', 'cat'], ['the', 'dog']], 'VP': [['sat'], ['ran']]})\n",
        "result = Parser(grammar).parse(\"the cat sat\")\n",
        "print(\"Parsing Successful:\", result)\n"
      ],
      "metadata": {
        "colab": {
          "base_uri": "https://localhost:8080/"
        },
        "id": "91Ft_Cpgc01E",
        "outputId": "8290d964-9846-4617-dab4-247fd555548f"
      },
      "execution_count": 38,
      "outputs": [
        {
          "output_type": "stream",
          "name": "stdout",
          "text": [
            "Parsing Successful: True\n"
          ]
        }
      ]
    },
    {
      "cell_type": "code",
      "source": [
        "class Grammar:\n",
        "    def __init__(self, productions):\n",
        "        self.productions = productions\n",
        "\n",
        "class ParseTreeNode:\n",
        "    def __init__(self, symbol, children=None):\n",
        "        self.symbol = symbol\n",
        "        self.children = children or []\n",
        "\n",
        "class Parser:\n",
        "    def __init__(self, grammar):\n",
        "        self.grammar = grammar\n",
        "\n",
        "    def parse(self, input_string):\n",
        "        tokens = input_string.split()\n",
        "        start_productions = self.grammar.productions.get('S', [])\n",
        "        for production in start_productions:\n",
        "            tree, success = self.try_production(production, tokens)\n",
        "            if success:\n",
        "                return tree\n",
        "        return None\n",
        "\n",
        "    def try_production(self, production, tokens):\n",
        "        token_iter = iter(tokens)\n",
        "        children = []\n",
        "        for token in production:\n",
        "            if token.islower():\n",
        "                token_val = next(token_iter)\n",
        "                if token_val != token:\n",
        "                    return None, False\n",
        "                children.append(ParseTreeNode(token_val))\n",
        "            else:\n",
        "                subtree, success = None, False\n",
        "                for prod in self.grammar.productions.get(token, []):\n",
        "                    subtree, success = self.try_production(prod, token_iter)\n",
        "                    if success:\n",
        "                        children.append(subtree)\n",
        "                        break\n",
        "                if not success:\n",
        "                    return None, False\n",
        "        return ParseTreeNode(production[0], children), True\n",
        "\n",
        "# Example usage:\n",
        "grammar = Grammar({'S': [['NP', 'VP']], 'NP': [['the', 'cat'], ['the', 'dog']], 'VP': [['sat'], ['ran']]})\n",
        "parse_tree = Parser(grammar).parse(\"the cat sat\")\n",
        "if parse_tree:\n",
        "    print(\"Parsing Successful. Parse Tree:\")\n",
        "    def print_parse_tree(node, level=0):\n",
        "        print(\"  \" * level + node.symbol)\n",
        "        for child in node.children:\n",
        "            print_parse_tree(child, level + 1)\n",
        "    print_parse_tree(parse_tree)\n",
        "else:\n",
        "    print(\"Parsing Failed.\")\n"
      ],
      "metadata": {
        "colab": {
          "base_uri": "https://localhost:8080/"
        },
        "id": "aAoynn1jd0xV",
        "outputId": "a9d2fdb1-5c8d-4640-9dfe-3c482481141a"
      },
      "execution_count": 39,
      "outputs": [
        {
          "output_type": "stream",
          "name": "stdout",
          "text": [
            "Parsing Successful. Parse Tree:\n",
            "NP\n",
            "  the\n",
            "    the\n",
            "    cat\n",
            "  sat\n",
            "    sat\n"
          ]
        }
      ]
    },
    {
      "cell_type": "code",
      "source": [
        "class EarleyParser:\n",
        "    def __init__(self, grammar):\n",
        "        self.grammar = grammar\n",
        "    def parse(self, input_string):\n",
        "        self.chart = [[] for _ in range(len(input_string) + 1)]\n",
        "        self.chart[0].append(('start', '', 0))\n",
        "        for i in range(len(input_string) + 1):\n",
        "            for state in self.chart[i]:\n",
        "                self.predictor(state, i)\n",
        "                if i < len(input_string):\n",
        "                    self.scanner(state, input_string[i], i)\n",
        "                else:\n",
        "                    self.completer(state, i)\n",
        "        if ('start', self.grammar['start'], 0) in self.chart[len(input_string)]:\n",
        "            print(f'Parsing failed for input: {input_string}')\n",
        "        else:\n",
        "            print(f'Parsing successfull for input: {input_string}')\n",
        "    def predictor(self, state, index):\n",
        "        if state[1] in self.grammar:\n",
        "            for production in self.grammar[state[1]]:\n",
        "                self.chart[index].append((state[1], production, index))\n",
        "    def scanner(self, state, token, index):\n",
        "        if state[1] == '' or state[1][0] != token:\n",
        "            return\n",
        "        self.chart[index + 1].append((state[0], state[1][1:], state[2]))\n",
        "    def completer(self, state, index):\n",
        "        for st in self.chart[state[2]]:\n",
        "            if st[1] == '' or st[1][0] != state[0]:\n",
        "                continue\n",
        "            self.chart[index].append((st[0], st[1][1:], st[2]))\n",
        "grammar = {\n",
        "    'start': 'Expression',\n",
        "    'Expression': ['Term + Expression', 'Term'],\n",
        "    'Term': ['Factor * Term', 'Factor'],\n",
        "    'Factor': ['( Expression )', 'number']\n",
        "}\n",
        "\n",
        "parser = EarleyParser(grammar)\n",
        "parser.parse('3* (2+1)')\n",
        "parser.parse('2+1*3')\n",
        "parser.parse('2+ (1*3)')\n"
      ],
      "metadata": {
        "colab": {
          "base_uri": "https://localhost:8080/"
        },
        "id": "6kfEgIieekTJ",
        "outputId": "0e7c9075-681d-4e2f-815c-bbf39db7eb6a"
      },
      "execution_count": 47,
      "outputs": [
        {
          "output_type": "stream",
          "name": "stdout",
          "text": [
            "Parsing successfull for input: 3* (2+1)\n",
            "Parsing successfull for input: 2+1*3\n",
            "Parsing successfull for input: 2+ (1*3)\n"
          ]
        }
      ]
    },
    {
      "cell_type": "code",
      "source": [
        "import nltk\n",
        "def generate_parse_tree(sentence, grammar):\n",
        "    tokens = nltk.word_tokenize(sentence)\n",
        "    parser = nltk.ChartParser(grammar)\n",
        "    parse_tree = None\n",
        "    for tree in parser.parse(tokens):\n",
        "        parse_tree = tree\n",
        "        break\n",
        "    return parse_tree\n",
        "example_grammar = nltk.CFG.fromstring(\"\"\"\n",
        "    S -> NP VP\n",
        "    NP -> Det N\n",
        "    VP -> V NP\n",
        "    Det -> 'the' | 'a'\n",
        "    N -> 'cat' | 'dog'\n",
        "    V -> 'chased' | 'caught'\n",
        "\"\"\")\n",
        "example_sentence = \"the cat chased a dog\"\n",
        "parse_tree = generate_parse_tree(example_sentence, example_grammar)\n",
        "if parse_tree:\n",
        "    parse_tree.pretty_print()\n",
        "else:\n",
        "    print(\"No parse tree found for the given sentence.\")\n"
      ],
      "metadata": {
        "colab": {
          "base_uri": "https://localhost:8080/"
        },
        "id": "gP8hHgWie4pM",
        "outputId": "67ef02c1-d8ea-4a60-b521-24bf1953c1a1"
      },
      "execution_count": 49,
      "outputs": [
        {
          "output_type": "stream",
          "name": "stdout",
          "text": [
            "              S               \n",
            "      ________|_____           \n",
            "     |              VP        \n",
            "     |         _____|___       \n",
            "     NP       |         NP    \n",
            "  ___|___     |      ___|___   \n",
            "Det      N    V    Det      N \n",
            " |       |    |     |       |  \n",
            "the     cat chased  a      dog\n",
            "\n"
          ]
        }
      ]
    },
    {
      "cell_type": "code",
      "source": [
        "import nltk\n",
        "\n",
        "def check_agreement(sentence, grammar):\n",
        "    parser = nltk.ChartParser(grammar)\n",
        "    tokens = nltk.word_tokenize(sentence)\n",
        "\n",
        "    try:\n",
        "        parse_tree = next(parser.parse(tokens))\n",
        "        return True\n",
        "    except StopIteration:\n",
        "        return False\n",
        "\n",
        "agreement_grammar = nltk.CFG.fromstring(\"\"\"\n",
        "    S -> NP_SG VP_SG | NP_PL VP_PL\n",
        "    NP_SG -> Det_SG N_SG\n",
        "    NP_PL -> Det_PL N_PL\n",
        "    VP_SG -> V_SG\n",
        "    VP_PL -> V_PL\n",
        "    Det_SG -> 'the'\n",
        "    Det_PL -> 'the'\n",
        "    N_SG -> 'cat'\n",
        "    N_PL -> 'cats'\n",
        "    V_SG -> 'chases'\n",
        "    V_PL -> 'chase'\n",
        "\"\"\")\n",
        "\n",
        "sentence1 = \"the cat chases\"\n",
        "sentence2 = \"the cats chases\"\n",
        "\n",
        "result1 = check_agreement(sentence1, agreement_grammar)\n",
        "result2 = check_agreement(sentence2, agreement_grammar)\n",
        "\n",
        "print(f\"Sentence 1 Agreement: {'Yes' if result1 else 'No'}\")\n",
        "print(f\"Sentence 2 Agreement: {'Yes' if result2 else 'No'}\")"
      ],
      "metadata": {
        "colab": {
          "base_uri": "https://localhost:8080/"
        },
        "id": "5V5chgMHhEV1",
        "outputId": "ecffcc41-9ac5-405b-f4a9-efdf554fc30a"
      },
      "execution_count": 53,
      "outputs": [
        {
          "output_type": "stream",
          "name": "stdout",
          "text": [
            "Sentence 1 Agreement: Yes\n",
            "Sentence 2 Agreement: No\n"
          ]
        }
      ]
    },
    {
      "cell_type": "code",
      "source": [
        "import nltk\n",
        "\n",
        "pcfg_grammar = nltk.PCFG.fromstring(\"\"\"\n",
        "    S -> NP VP [1.0]\n",
        "    NP -> Det N [0.5] | N [0.3] | N PP [0.2]\n",
        "    VP -> V NP [0.9] | VP PP [0.1]\n",
        "    Det -> 'the' [0.8] | 'a' [0.2]\n",
        "    N -> 'dog' [0.4] | 'cat' [0.3] | 'park' [0.3]\n",
        "    V -> 'chased' [0.7] | 'caught' [0.3]\n",
        "    PP -> P NP [1.0]\n",
        "    P -> 'in' [0.6] | 'on' [0.4]\n",
        "\"\"\")\n",
        "\n",
        "pcfg_parser = nltk.ViterbiParser(pcfg_grammar)\n",
        "\n",
        "sentence = \"the dog chased the cat in the park\"\n",
        "\n",
        "tokens = nltk.word_tokenize(sentence)\n",
        "\n",
        "for tree in pcfg_parser.parse(tokens):\n",
        "    tree.pretty_print()\n",
        "    print(\"Probability:\", tree.prob())"
      ],
      "metadata": {
        "colab": {
          "base_uri": "https://localhost:8080/"
        },
        "id": "ZML2kgguhw-Y",
        "outputId": "3d2eac44-dd94-45ea-87e5-fb21cc826fba"
      },
      "execution_count": 54,
      "outputs": [
        {
          "output_type": "stream",
          "name": "stdout",
          "text": [
            "                    S                          \n",
            "      ______________|_______                    \n",
            "     |                      VP                 \n",
            "     |               _______|_______            \n",
            "     |              VP              PP         \n",
            "     |         _____|___         ___|___        \n",
            "     NP       |         NP      |       NP     \n",
            "  ___|___     |      ___|___    |    ___|___    \n",
            "Det      N    V    Det      N   P  Det      N  \n",
            " |       |    |     |       |   |   |       |   \n",
            "the     dog chased the     cat  in the     park\n",
            "\n",
            "Probability: 8.709120000000002e-05\n"
          ]
        }
      ]
    },
    {
      "cell_type": "code",
      "source": [
        "\n",
        "import spacy\n",
        "NER=spacy.load(\"en_core_web_sm\")\n",
        "sentence= \"Apple Inc. was founded by Steve Jobs in Cupertino. The iPhone was first released in 2007.\"\n",
        "txt=NER(sentence)\n",
        "for i in txt.ents:\n",
        "    print(i.text,i.label_)\n"
      ],
      "metadata": {
        "colab": {
          "base_uri": "https://localhost:8080/"
        },
        "id": "UEaofMYJiX4I",
        "outputId": "f3213e83-e35e-4917-d983-49d13d999800"
      },
      "execution_count": 57,
      "outputs": [
        {
          "output_type": "stream",
          "name": "stdout",
          "text": [
            "Apple Inc. ORG\n",
            "Steve Jobs PERSON\n",
            "Cupertino GPE\n",
            "iPhone ORG\n",
            "first ORDINAL\n",
            "2007 DATE\n"
          ]
        }
      ]
    },
    {
      "cell_type": "code",
      "source": [
        "from nltk.corpus import wordnet\n",
        "syn = wordnet.synsets('hello')[0]\n",
        "print (\"Synset name :  \", syn.name())\n",
        "print (\"\\nSynset meaning : \", syn.definition())\n",
        "print (\"\\nSynset example : \", syn.examples())"
      ],
      "metadata": {
        "colab": {
          "base_uri": "https://localhost:8080/"
        },
        "id": "W-67NYaZiqqb",
        "outputId": "075a0358-f40e-405b-ca24-7b989a98f0ca"
      },
      "execution_count": 59,
      "outputs": [
        {
          "output_type": "stream",
          "name": "stdout",
          "text": [
            "Synset name :   hello.n.01\n",
            "\n",
            "Synset meaning :  an expression of greeting\n",
            "\n",
            "Synset example :  ['every morning they exchanged polite hellos']\n"
          ]
        }
      ]
    },
    {
      "cell_type": "code",
      "source": [
        "def parse_fopc(expression, facts):\n",
        "    # Split the expression into predicate and arguments\n",
        "    predicate, arguments = expression.split('(')\n",
        "    arguments = arguments.rstrip(')').split(', ')  # Remove spaces after commas\n",
        "\n",
        "    # Check if the combination of predicate and arguments exists in the set of facts\n",
        "    if (predicate, *arguments) in facts:\n",
        "        return True\n",
        "    else:\n",
        "        return False\n",
        "\n",
        "# Define facts\n",
        "facts = {(\"R\", \"apple\", \"banana\"), (\"R\", \"banana\", \"cherry\"), (\"R\", \"apple\", \"cherry\")}\n",
        "\n",
        "# Sample FOPC expressions\n",
        "expressions = [\"R(apple, banana)\", \"R(banana, cherry)\", \"R(apple, cherry)\", \"R(pear, orange)\"]\n",
        "\n",
        "# Parse and evaluate each expression\n",
        "for expression in expressions:\n",
        "    result = parse_fopc(expression, facts)\n",
        "    print(f\"{expression}: {result}\")\n"
      ],
      "metadata": {
        "colab": {
          "base_uri": "https://localhost:8080/"
        },
        "id": "UmkybXT5jea5",
        "outputId": "65454a39-380b-4efe-8f8d-e8dd15df3a82"
      },
      "execution_count": 64,
      "outputs": [
        {
          "output_type": "stream",
          "name": "stdout",
          "text": [
            "R(apple, banana): True\n",
            "R(banana, cherry): True\n",
            "R(apple, cherry): True\n",
            "R(pear, orange): False\n"
          ]
        }
      ]
    },
    {
      "cell_type": "code",
      "source": [
        "from nltk.wsd import lesk\n",
        "from nltk.tokenize import word_tokenize\n",
        "example_sentence = \"The bank was situated near the river bank.\"\n",
        "tokenized_sentence = word_tokenize(example_sentence)\n",
        "target_word = \"bank\"\n",
        "sense = lesk(tokenized_sentence, target_word)\n",
        "if sense:\n",
        "    print(f\"Target word: {target_word}\")\n",
        "    print(f\"Best sense: {sense.name()}\")\n",
        "    print(f\"Definition: {sense.definition()}\")\n",
        "else:\n",
        "    print(f\"No sense found for the target word '{target_word}'.\")\n"
      ],
      "metadata": {
        "colab": {
          "base_uri": "https://localhost:8080/"
        },
        "id": "s_jKHVUtjvl7",
        "outputId": "d65f12a1-79d3-4387-bbcd-0576df3e482c"
      },
      "execution_count": 65,
      "outputs": [
        {
          "output_type": "stream",
          "name": "stdout",
          "text": [
            "Target word: bank\n",
            "Best sense: savings_bank.n.02\n",
            "Definition: a container (usually with a slot in the top) for keeping money at home\n"
          ]
        }
      ]
    },
    {
      "cell_type": "code",
      "source": [
        "from sklearn.feature_extraction.text import TfidfVectorizer\n",
        "from sklearn.metrics.pairwise import linear_kernel\n",
        "# Sample documents\n",
        "documents = [\n",
        "    \"The quick brown fox jumps over the lazy dog\",\n",
        "    \"A brown dog chased the fox\",\n",
        "    \"The fox is quick and the dog is lazy\",\n",
        "    \"The cat is sitting on the windowsill\",\n",
        "]\n",
        "# Query\n",
        "query = \"The quick fox\"\n",
        "def tfidf_search(query, documents):\n",
        "    # Create TF-IDF vectorizer\n",
        "    vectorizer = TfidfVectorizer()\n",
        "    # Calculate TF-IDF matrix\n",
        "    tfidf_matrix = vectorizer.fit_transform(documents + [query])\n",
        "    # Calculate cosine similarity between the query and each document\n",
        "    cosine_similarities = linear_kernel(tfidf_matrix[-1], tfidf_matrix[:-1]).flatten()\n",
        "    # Rank documents based on cosine similarities\n",
        "    ranked_documents = sorted(enumerate(cosine_similarities), key=lambda x: x[1], reverse=True)\n",
        "    return ranked_documents\n",
        "# Perform TF-IDF-based document ranking\n",
        "results = tfidf_search(query, documents)\n",
        "# Print the ranked documents\n",
        "print(\"Ranked Documents:\")\n",
        "for index, similarity in results:\n",
        "    print(f\"Document {index + 1}: Similarity = {similarity:.4f}\")\n",
        "    print(f\"   '{documents[index]}'\\n\")\n"
      ],
      "metadata": {
        "colab": {
          "base_uri": "https://localhost:8080/"
        },
        "id": "3JL8ashEkuTZ",
        "outputId": "ee0fa853-a9ae-4707-b49d-f600c7a25d88"
      },
      "execution_count": 66,
      "outputs": [
        {
          "output_type": "stream",
          "name": "stdout",
          "text": [
            "Ranked Documents:\n",
            "Document 1: Similarity = 0.5257\n",
            "   'The quick brown fox jumps over the lazy dog'\n",
            "\n",
            "Document 3: Similarity = 0.4848\n",
            "   'The fox is quick and the dog is lazy'\n",
            "\n",
            "Document 2: Similarity = 0.3360\n",
            "   'A brown dog chased the fox'\n",
            "\n",
            "Document 4: Similarity = 0.1933\n",
            "   'The cat is sitting on the windowsill'\n",
            "\n"
          ]
        }
      ]
    },
    {
      "cell_type": "code",
      "source": [
        "import spacy\n",
        "def extract_noun_phrases(sentence):\n",
        "    # Load the English language model for spaCy\n",
        "    nlp = spacy.load(\"en_core_web_sm\")\n",
        "    # Process the input sentence\n",
        "    doc = nlp(sentence)\n",
        "    # Extract noun phrases and their meanings\n",
        "    noun_phrases = []\n",
        "    for chunk in doc.noun_chunks:\n",
        "        noun_phrases.append((chunk.text, get_meaning(chunk.root)))\n",
        "    return noun_phrases\n",
        "def get_meaning(word):\n",
        "    # In a real-world scenario, you might use WordNet or another resource for word meanings\n",
        "    # For simplicity, this example returns a placeholder meaning\n",
        "    return f\"Meaning of '{word.text}' is not determined in this example.\"\n",
        "# Example sentence\n",
        "example_sentence = \"The quick brown fox jumps over the lazy dog.\"\n",
        "# Perform syntax-driven semantic analysis\n",
        "semantic_results = extract_noun_phrases(example_sentence)\n",
        "# Print the results\n",
        "print(\"Noun Phrases and Their Meanings:\")\n",
        "for phrase, meaning in semantic_results:\n",
        "    print(f\"Noun Phrase: {phrase}\")\n",
        "    print(f\"Meaning: {meaning}\\n\")\n"
      ],
      "metadata": {
        "colab": {
          "base_uri": "https://localhost:8080/"
        },
        "id": "Xf_iI2gFk9nD",
        "outputId": "20f201d6-7491-4326-aa77-c2e76089f179"
      },
      "execution_count": 67,
      "outputs": [
        {
          "output_type": "stream",
          "name": "stdout",
          "text": [
            "Noun Phrases and Their Meanings:\n",
            "Noun Phrase: The quick brown fox\n",
            "Meaning: Meaning of 'fox' is not determined in this example.\n",
            "\n",
            "Noun Phrase: the lazy dog\n",
            "Meaning: Meaning of 'dog' is not determined in this example.\n",
            "\n"
          ]
        }
      ]
    },
    {
      "cell_type": "code",
      "source": [
        "import spacy\n",
        "\n",
        "def resolve_references(text):\n",
        "    # Load spaCy English model\n",
        "    nlp = spacy.load(\"en_core_web_sm\")\n",
        "\n",
        "    # Process the input text\n",
        "    doc = nlp(text)\n",
        "\n",
        "    # Extract entities and their positions\n",
        "    entities = {ent.start: ent for ent in doc.ents}\n",
        "\n",
        "    # Resolve pronoun references\n",
        "    resolved_text = []\n",
        "    for token in doc:\n",
        "        if token.text.lower() in ['he', 'him', 'his', 'she', 'her', 'it']:\n",
        "            # Check if the pronoun is part of an entity\n",
        "            if token.i in entities:\n",
        "                resolved_text.append(entities[token.i].text)\n",
        "            else:\n",
        "                # Use the pronoun as is if not part of an entity\n",
        "                resolved_text.append(token.text)\n",
        "        else:\n",
        "            resolved_text.append(token.text)\n",
        "\n",
        "    return ' '.join(resolved_text)\n",
        "\n",
        "# Example usage\n",
        "input_text = \"John met Mary at the park. He gave her a book.\"\n",
        "resolved_text = resolve_references(input_text)\n",
        "\n",
        "# Display the results\n",
        "print(\"Original Text:\")\n",
        "print(input_text)\n",
        "print(\"\\nResolved Text:\")\n",
        "print(resolved_text)\n"
      ],
      "metadata": {
        "colab": {
          "base_uri": "https://localhost:8080/"
        },
        "id": "h2BU-porlR34",
        "outputId": "a2883162-3132-4bd0-fe8e-30ef3932f232"
      },
      "execution_count": 68,
      "outputs": [
        {
          "output_type": "stream",
          "name": "stdout",
          "text": [
            "Original Text:\n",
            "John met Mary at the park. He gave her a book.\n",
            "\n",
            "Resolved Text:\n",
            "John met Mary at the park . He gave her a book .\n"
          ]
        }
      ]
    },
    {
      "cell_type": "code",
      "source": [
        "import nltk\n",
        "\n",
        "def resolve_references(text):\n",
        "    sentences = nltk.sent_tokenize(text)\n",
        "    tokenized_sentences = [nltk.word_tokenize(sentence) for sentence in sentences]\n",
        "    tagged_sentences = [nltk.pos_tag(sentence) for sentence in tokenized_sentences]\n",
        "\n",
        "    resolved_text = []\n",
        "    pronouns = set(['he', 'him', 'his', 'she', 'her', 'it', 'they', 'them', 'their'])\n",
        "\n",
        "    for tagged_sentence in tagged_sentences:\n",
        "        resolved_sentence = []\n",
        "        for word, pos in tagged_sentence:\n",
        "            if word.lower() in pronouns and len(resolved_sentence) > 0:\n",
        "                antecedent = resolved_sentence[-1]\n",
        "                resolved_sentence.append(f'({word} -> {antecedent})')\n",
        "            else:\n",
        "                resolved_sentence.append(word)\n",
        "        resolved_text.append(' '.join(resolved_sentence))\n",
        "\n",
        "    return ' '.join(resolved_text)\n",
        "\n",
        "text = \"John went to the market and He bought some fruits.\"\n",
        "\n",
        "resolved_text = resolve_references(text)\n",
        "print(resolved_text)"
      ],
      "metadata": {
        "colab": {
          "base_uri": "https://localhost:8080/"
        },
        "id": "3Kw-AD8ilcIK",
        "outputId": "6035869e-7fd3-47d5-f98b-4bfcb7af5f62"
      },
      "execution_count": 70,
      "outputs": [
        {
          "output_type": "stream",
          "name": "stdout",
          "text": [
            "John went to the market and (He -> and) bought some fruits .\n"
          ]
        }
      ]
    },
    {
      "cell_type": "code",
      "source": [
        "\n",
        "import nltk\n",
        "\n",
        "def calculate_coherence(text):\n",
        "    sentences = nltk.sent_tokenize(text)\n",
        "    coherence_markers = ['however', 'therefore', 'consequently', 'nevertheless', 'furthermore', 'meanwhile', 'although', 'while', 'yet', 'moreover']\n",
        "\n",
        "    total_markers = 0\n",
        "    for sentence in sentences:\n",
        "        tokenized_sentence = nltk.word_tokenize(sentence.lower())\n",
        "        for marker in coherence_markers:\n",
        "            if marker in tokenized_sentence:\n",
        "                total_markers += 1\n",
        "\n",
        "    return total_markers\n",
        "\n",
        "text = \"The weather was terrible. However, they decided to go for a picnic. Therefore, they packed their bags and left.\"\n",
        "\n",
        "coherence_score = calculate_coherence(text)\n",
        "print(f\"Coherence Score: {coherence_score}\")"
      ],
      "metadata": {
        "colab": {
          "base_uri": "https://localhost:8080/"
        },
        "id": "PI-xVVbxllRX",
        "outputId": "f615335a-f7e9-41f6-8e74-122c1752aa8a"
      },
      "execution_count": 71,
      "outputs": [
        {
          "output_type": "stream",
          "name": "stdout",
          "text": [
            "Coherence Score: 2\n"
          ]
        }
      ]
    },
    {
      "cell_type": "code",
      "source": [
        "import nltk\n",
        "from nltk.tokenize import sent_tokenize\n",
        "from sklearn.feature_extraction.text import TfidfVectorizer\n",
        "from sklearn.metrics.pairwise import cosine_similarity\n",
        "\n",
        "def compute_coherence(text):\n",
        "    # Tokenize the text into sentences\n",
        "    sentences = sent_tokenize(text)\n",
        "\n",
        "    # Create a TF-IDF vectorizer\n",
        "    vectorizer = TfidfVectorizer(stop_words='english')\n",
        "\n",
        "    # Compute TF-IDF matrix\n",
        "    tfidf_matrix = vectorizer.fit_transform(sentences)\n",
        "\n",
        "    # Compute cosine similarity between sentences\n",
        "    similarity_matrix = cosine_similarity(tfidf_matrix, tfidf_matrix)\n",
        "\n",
        "    # Calculate coherence score\n",
        "    coherence_score = similarity_matrix.mean()\n",
        "\n",
        "    return coherence_score\n",
        "\n",
        "if __name__ == \"__main__\":\n",
        "    # Example text\n",
        "    input_text = \"\"\"\n",
        "    Natural Language Processing (NLP) is a field of artificial intelligence that focuses on the interaction between computers and humans using natural language. It involves the development of algorithms and models that enable machines to understand, interpret, and generate human-like text. NLP has applications in various domains, including chatbots, sentiment analysis, and language translation.\n",
        "\n",
        "    Coherence in a text refers to the logical connection and smooth flow of ideas between sentences and paragraphs. A coherent text is easier to understand and retains the reader's attention. Evaluating coherence is crucial in assessing the quality of written communication.\n",
        "\n",
        "    This program computes the coherence of a given text by analyzing the similarity between sentences using TF-IDF vectors. The higher the coherence score, the more connected and coherent the text is considered.\n",
        "\n",
        "    Feel free to replace this example text with your own to evaluate the coherence of different texts.\n",
        "    \"\"\"\n",
        "\n",
        "    # Compute coherence score\n",
        "    coherence_score = compute_coherence(input_text)\n",
        "\n",
        "    # Display the coherence score\n",
        "    print(f\"Coherence Score: {coherence_score}\")\n"
      ],
      "metadata": {
        "colab": {
          "base_uri": "https://localhost:8080/"
        },
        "id": "j4IzOSUCmJ8t",
        "outputId": "389de261-96de-41b5-eaad-594f5e2decad"
      },
      "execution_count": 72,
      "outputs": [
        {
          "output_type": "stream",
          "name": "stdout",
          "text": [
            "Coherence Score: 0.14863938451879324\n"
          ]
        }
      ]
    },
    {
      "cell_type": "code",
      "source": [
        "import spacy\n",
        "def recognize_dialog_acts(conversation):\n",
        "    nlp = spacy.load(\"en_core_web_sm\")\n",
        "    # Process the conversation using spaCy\n",
        "    doc = nlp(conversation)\n",
        "    # Extract sentences and their dialog acts\n",
        "    dialog_acts = []\n",
        "    for sent in doc.sents:\n",
        "        # You may customize this logic based on your requirements\n",
        "        # Here, we assume simple categorization (question, statement, etc.)\n",
        "        if \"?\" in sent.text:\n",
        "            dialog_act = \"Question\"\n",
        "        else:\n",
        "            dialog_act = \"Statement\"\n",
        "        dialog_acts.append((sent.text, dialog_act))\n",
        "    return dialog_acts\n",
        "if __name__ == \"__main__\":\n",
        "    # Example conversation\n",
        "    conversation = \"User: How are you? Bot: I'm doing well. User: What's the weather like today?\"\n",
        "    # Recognize dialog acts\n",
        "    dialog_acts = recognize_dialog_acts(conversation)\n",
        "    # Print the recognized dialog acts\n",
        "    for sentence, dialog_act in dialog_acts:\n",
        "        print(f\"{dialog_act}: {sentence}\")\n"
      ],
      "metadata": {
        "colab": {
          "base_uri": "https://localhost:8080/"
        },
        "id": "EY8KcPPpmgEs",
        "outputId": "3037aa7e-ffa9-4c53-b880-b53ac4525666"
      },
      "execution_count": 73,
      "outputs": [
        {
          "output_type": "stream",
          "name": "stdout",
          "text": [
            "Question: User: How are you?\n",
            "Statement: Bot: I'm doing well.\n",
            "Question: User: What's the weather like today?\n"
          ]
        }
      ]
    },
    {
      "cell_type": "code",
      "source": [
        "import openai\n",
        "\n",
        "# Set your OpenAI API key\n",
        "api_key = \"YOUR_API_KEY\"\n",
        "\n",
        "# Your prompt for text generation\n",
        "prompt = \"Once upon a time,\"\n",
        "\n",
        "# Generate text using GPT-3\n",
        "response = openai.Completion.create(\n",
        "    engine=\"text-davinci-002\",  # You can choose a different engine based on your needs\n",
        "    prompt=prompt,\n",
        "    max_tokens=50,  # Adjust the desired length of the generated text\n",
        "    n = 1,  # Number of completions to generate\n",
        "    stop=None  # You can specify an optional stop sequence\n",
        ")\n",
        "\n",
        "# Extract and print the generated text\n",
        "generated_text = response.choices[0].text\n",
        "print(generated_text)"
      ],
      "metadata": {
        "id": "j5EeRFq9muEA"
      },
      "execution_count": null,
      "outputs": []
    },
    {
      "cell_type": "code",
      "source": [
        "from transformers import MarianMTModel, MarianTokenizer\n",
        "\n",
        "# Load the pre-trained model and tokenizer for English to French translation\n",
        "model_name = \"Helsinki-NLP/opus-mt-en-fr\"  # You can choose a different model if needed\n",
        "model = MarianMTModel.from_pretrained(model_name)\n",
        "tokenizer = MarianTokenizer.from_pretrained(model_name)\n",
        "\n",
        "# English text to be translated\n",
        "english_text = \"Hello, how are you?\"\n",
        "\n",
        "# Tokenize the input text\n",
        "inputs = tokenizer(english_text, return_tensors=\"pt\")\n",
        "\n",
        "# Translate the input text to French\n",
        "with tokenizer.as_target_tokenizer():\n",
        "    outputs = model.generate(**inputs, max_length=50, num_return_sequences=1)\n",
        "\n",
        "# Decode and print the translation\n",
        "french_translation = tokenizer.batch_decode(outputs, skip_special_tokens=True)\n",
        "print(\"English: \", english_text)\n",
        "print(\"French: \", french_translation[0])"
      ],
      "metadata": {
        "colab": {
          "base_uri": "https://localhost:8080/",
          "height": 480,
          "referenced_widgets": [
            "096820b66b864ff294d877e378e2d3ca",
            "db806899496b416a9dbe53169d35d9a7",
            "6232b2de97b14e6ca35310f43bfd2b04",
            "eda2f6fbb2cd412ca0084656fb8a89e8",
            "b7069780860e4f9c940023e5160ad339",
            "e26214cb497a4d3181d602441efa8070",
            "4ba6bd5e22a64f32a0cd37f6a59dff1a",
            "f151f119d7f24e03bcc3772e987c0eee",
            "8957581595044619844e7c93b92f13e4",
            "7f73ddff722c4f30b75688211a00bb57",
            "577d1eee9deb4244991894e5cc2f54a9",
            "c746b66cab3f41eabdb9da49aab2c34a",
            "5643f0896ec4417eba2db0bbb2645436",
            "b6f25bb8b3c944d1aa7540abb1525902",
            "1d22ae4ad7d7486f969bbf384949bc3c",
            "24f3cc14a3964cc68c4b989f8f81ff67",
            "d807b9adceec424482c53c0d136b4480",
            "c7dbf02923c34ce6a280fddcff43143a",
            "91ade3387a8f4de69461461c19913e39",
            "d8ba4c1a4fde4f7e9401a7952623e5c5",
            "ab8028b3a2b14d82bb859c6538a78541",
            "5890a0e4f7a04654a0014987ce61053f",
            "fcd7682b0d0041beb6b90af2639f7547",
            "a48902ebff13432d835b496690bfa667",
            "180224596e5f48558f58dca64d10c0ba",
            "a08d6650fb374a4482f941ab18e62114",
            "68e7ee3f1c9a4d91a63ed87d07df4cf8",
            "cc6588ad966343ae8093b8407d2563b0",
            "79433b4029014945b0e28a8f515b3028",
            "8e184f53b69d49bc9b82d1a04dfc4e8f",
            "daa36f341e0741568b3efd0d32b0f227",
            "cd9a5a6f80784e88bcfdcb98f8a9ed6a",
            "65fb8e7d7ff74ca9b684c86b4cc3ea04",
            "15bfa94f325f40f4a0bfb0907fe09999",
            "203eb3dabcec4511b3a9ff32f01f7f0f",
            "6cdc582f91784498b260c694a96890c9",
            "1b8dcc93bf80408a850eb335b4814c00",
            "3080e32d811b4978a93ec9f2be304d86",
            "25b60c02471943698c9dcb5b620003d8",
            "a9baab2fb37144939ca1969274ee7db2",
            "6677df416491418aafff55572a465386",
            "5312b956b9154026890e3471370c7278",
            "588385c772b04eafa5deaa6bfec9cdff",
            "989970781a1c4c36b345cb4e2c3a1732",
            "d38556b5e8bf431baba5ee644123f38e",
            "b856a10495f64e35a76ca1ba88568f70",
            "f32add5cbd9c4bb0bbb081aac4f8c71b",
            "b8b78e69477a4955b7c3f99ab069cdb2",
            "078e1b66d0b840ee93ccb885f60d8cbf",
            "391feaf1dc5248d882cdc470d77f6bce",
            "63dca23820ab4138ada9d8b22a32b59d",
            "6f2bc930283848c2b2f1f6955c61e669",
            "e6e586e4392d44e4ad6b23fb149b3e43",
            "1375420bb4754625a15da03ae376bf94",
            "04d5ebe37d4445efac93541b2794d926",
            "3c3d2fee27cf4e18a6779c2fbac304ff",
            "f3d4c4f4bb614ed7880c55f6d4299b04",
            "a5cdcbd085f0494287e55e647165bb3b",
            "beb68dc0764b4ad79a904b6fce35a0b3",
            "fd3cf6f51e6447788b324924f7ffc07b",
            "e508e9dfbdd7407fa5f88b8a89d14742",
            "6ed92058f4834e90a00ab0731038dd01",
            "4e01f5499761489193110ddb9d4646a8",
            "d83ef1daed454119b6a6cf28f5864c4a",
            "472ca66718cd4170b9c368f93c443baf",
            "99dd2898ce35469882bba2bc9e40a153",
            "3def2fbce1624f4eb2ee1f28f7cbdf64",
            "e85b2c41b37f4dd5be6cfc6aab67000c",
            "7c14a902ad00413a8c5f398313a00f64",
            "1d914a9fbfd1499ebdf324e862dde75e",
            "8a033c3aa19d41e7b8d7c27a1e57be03",
            "bfebc48391b24ee09ceb43248b013ef3",
            "ef38659d607f4283a361d2f8672b8332",
            "bce01fb7d9694193a8f39026e450cfe3",
            "70eb54e1644a40a8a05080e6c26c240f",
            "927a8efb06b84196bb27ec46b6ea1f36",
            "92ee7ff036504b38922b79b3788d660d"
          ]
        },
        "id": "Lf9PHpHLm0Z7",
        "outputId": "0c3362d1-7756-4d4e-f863-1a04854dff96"
      },
      "execution_count": 74,
      "outputs": [
        {
          "output_type": "stream",
          "name": "stderr",
          "text": [
            "/usr/local/lib/python3.10/dist-packages/huggingface_hub/utils/_token.py:88: UserWarning: \n",
            "The secret `HF_TOKEN` does not exist in your Colab secrets.\n",
            "To authenticate with the Hugging Face Hub, create a token in your settings tab (https://huggingface.co/settings/tokens), set it as secret in your Google Colab and restart your session.\n",
            "You will be able to reuse this secret in all of your notebooks.\n",
            "Please note that authentication is recommended but still optional to access public models or datasets.\n",
            "  warnings.warn(\n"
          ]
        },
        {
          "output_type": "display_data",
          "data": {
            "text/plain": [
              "config.json:   0%|          | 0.00/1.42k [00:00<?, ?B/s]"
            ],
            "application/vnd.jupyter.widget-view+json": {
              "version_major": 2,
              "version_minor": 0,
              "model_id": "096820b66b864ff294d877e378e2d3ca"
            }
          },
          "metadata": {}
        },
        {
          "output_type": "display_data",
          "data": {
            "text/plain": [
              "pytorch_model.bin:   0%|          | 0.00/301M [00:00<?, ?B/s]"
            ],
            "application/vnd.jupyter.widget-view+json": {
              "version_major": 2,
              "version_minor": 0,
              "model_id": "c746b66cab3f41eabdb9da49aab2c34a"
            }
          },
          "metadata": {}
        },
        {
          "output_type": "display_data",
          "data": {
            "text/plain": [
              "generation_config.json:   0%|          | 0.00/293 [00:00<?, ?B/s]"
            ],
            "application/vnd.jupyter.widget-view+json": {
              "version_major": 2,
              "version_minor": 0,
              "model_id": "fcd7682b0d0041beb6b90af2639f7547"
            }
          },
          "metadata": {}
        },
        {
          "output_type": "display_data",
          "data": {
            "text/plain": [
              "tokenizer_config.json:   0%|          | 0.00/42.0 [00:00<?, ?B/s]"
            ],
            "application/vnd.jupyter.widget-view+json": {
              "version_major": 2,
              "version_minor": 0,
              "model_id": "15bfa94f325f40f4a0bfb0907fe09999"
            }
          },
          "metadata": {}
        },
        {
          "output_type": "display_data",
          "data": {
            "text/plain": [
              "source.spm:   0%|          | 0.00/778k [00:00<?, ?B/s]"
            ],
            "application/vnd.jupyter.widget-view+json": {
              "version_major": 2,
              "version_minor": 0,
              "model_id": "d38556b5e8bf431baba5ee644123f38e"
            }
          },
          "metadata": {}
        },
        {
          "output_type": "display_data",
          "data": {
            "text/plain": [
              "target.spm:   0%|          | 0.00/802k [00:00<?, ?B/s]"
            ],
            "application/vnd.jupyter.widget-view+json": {
              "version_major": 2,
              "version_minor": 0,
              "model_id": "3c3d2fee27cf4e18a6779c2fbac304ff"
            }
          },
          "metadata": {}
        },
        {
          "output_type": "display_data",
          "data": {
            "text/plain": [
              "vocab.json:   0%|          | 0.00/1.34M [00:00<?, ?B/s]"
            ],
            "application/vnd.jupyter.widget-view+json": {
              "version_major": 2,
              "version_minor": 0,
              "model_id": "3def2fbce1624f4eb2ee1f28f7cbdf64"
            }
          },
          "metadata": {}
        },
        {
          "output_type": "stream",
          "name": "stderr",
          "text": [
            "/usr/local/lib/python3.10/dist-packages/transformers/models/marian/tokenization_marian.py:197: UserWarning: Recommended: pip install sacremoses.\n",
            "  warnings.warn(\"Recommended: pip install sacremoses.\")\n",
            "/usr/local/lib/python3.10/dist-packages/transformers/tokenization_utils_base.py:3892: UserWarning: `as_target_tokenizer` is deprecated and will be removed in v5 of Transformers. You can tokenize your labels by using the argument `text_target` of the regular `__call__` method (either in the same call as your input texts if you use the same keyword arguments, or in a separate call.\n",
            "  warnings.warn(\n"
          ]
        },
        {
          "output_type": "stream",
          "name": "stdout",
          "text": [
            "English:  Hello, how are you?\n",
            "French:  Bonjour, comment allez-vous?\n"
          ]
        }
      ]
    },
    {
      "cell_type": "code",
      "source": [],
      "metadata": {
        "id": "H_iF1833m0xx"
      },
      "execution_count": null,
      "outputs": []
    }
  ]
}